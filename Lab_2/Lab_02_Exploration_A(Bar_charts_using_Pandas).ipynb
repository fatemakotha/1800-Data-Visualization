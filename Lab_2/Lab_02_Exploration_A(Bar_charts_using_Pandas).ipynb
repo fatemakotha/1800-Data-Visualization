{
  "nbformat": 4,
  "nbformat_minor": 0,
  "metadata": {
    "colab": {
      "provenance": [],
      "authorship_tag": "ABX9TyMCW4ag1yMQI3lFYXbh8Ua9",
      "include_colab_link": true
    },
    "kernelspec": {
      "name": "python3",
      "display_name": "Python 3"
    },
    "language_info": {
      "name": "python"
    }
  },
  "cells": [
    {
      "cell_type": "markdown",
      "metadata": {
        "id": "view-in-github",
        "colab_type": "text"
      },
      "source": [
        "<a href=\"https://colab.research.google.com/github/fatemakotha/1800-Data-Visualization/blob/main/Lab_2/Lab_02_Exploration_A(Bar_charts_using_Pandas).ipynb\" target=\"_parent\"><img src=\"https://colab.research.google.com/assets/colab-badge.svg\" alt=\"Open In Colab\"/></a>"
      ]
    },
    {
      "cell_type": "markdown",
      "source": [
        "##**Import the necessary modules**"
      ],
      "metadata": {
        "id": "-w4rvZAyQYlf"
      }
    },
    {
      "cell_type": "code",
      "execution_count": 105,
      "metadata": {
        "id": "fQcCyYTMMT9P"
      },
      "outputs": [],
      "source": [
        "import pandas as pd\n",
        "import numpy as np\n",
        "import matplotlib.pyplot as plt\n"
      ]
    },
    {
      "cell_type": "markdown",
      "source": [
        "###**1 - Read in the data from the file Pages/DailyHits.csv (https://tinyurl.com/ChrisCoDV/Pages/DailyHits.csv)**"
      ],
      "metadata": {
        "id": "shak7RACQTmC"
      }
    },
    {
      "cell_type": "code",
      "source": [
        "#Read DailyHits.csv\n",
        "data = pd.read_csv(\"https://tinyurl.com/ChrisCoDV/Pages/DailyHits.csv\", index_col=0)\n",
        "data.index = pd.to_datetime(data.index)\n",
        "data.head(3)"
      ],
      "metadata": {
        "colab": {
          "base_uri": "https://localhost:8080/",
          "height": 204
        },
        "id": "18E24CCTMf1l",
        "outputId": "e274c2de-e03a-446e-ebf8-eaadf7e35d42"
      },
      "execution_count": 106,
      "outputs": [
        {
          "output_type": "execute_result",
          "data": {
            "text/plain": [
              "             001  002  003  004  005  006  007  008  009  010  ...  158  159  \\\n",
              "Date                                                           ...             \n",
              "2019-01-01  1062   33   67   42    0    4    0    0    1   69  ...    0    0   \n",
              "2019-01-02   976   41   72   19    2    0    0   14    1   62  ...    5    0   \n",
              "2019-01-03   956   27   71   28    4    6   11    0    0   64  ...    0    0   \n",
              "\n",
              "            160  161  162  163  164  165  166  167  \n",
              "Date                                                \n",
              "2019-01-01    4    0   10    2    2    2    0    0  \n",
              "2019-01-02    0    7    0    0    0    0    1    3  \n",
              "2019-01-03    0    0    6    0    0    3    0    0  \n",
              "\n",
              "[3 rows x 167 columns]"
            ],
            "text/html": [
              "\n",
              "  <div id=\"df-357c68ad-16d2-4990-942b-42a668cb04b9\">\n",
              "    <div class=\"colab-df-container\">\n",
              "      <div>\n",
              "<style scoped>\n",
              "    .dataframe tbody tr th:only-of-type {\n",
              "        vertical-align: middle;\n",
              "    }\n",
              "\n",
              "    .dataframe tbody tr th {\n",
              "        vertical-align: top;\n",
              "    }\n",
              "\n",
              "    .dataframe thead th {\n",
              "        text-align: right;\n",
              "    }\n",
              "</style>\n",
              "<table border=\"1\" class=\"dataframe\">\n",
              "  <thead>\n",
              "    <tr style=\"text-align: right;\">\n",
              "      <th></th>\n",
              "      <th>001</th>\n",
              "      <th>002</th>\n",
              "      <th>003</th>\n",
              "      <th>004</th>\n",
              "      <th>005</th>\n",
              "      <th>006</th>\n",
              "      <th>007</th>\n",
              "      <th>008</th>\n",
              "      <th>009</th>\n",
              "      <th>010</th>\n",
              "      <th>...</th>\n",
              "      <th>158</th>\n",
              "      <th>159</th>\n",
              "      <th>160</th>\n",
              "      <th>161</th>\n",
              "      <th>162</th>\n",
              "      <th>163</th>\n",
              "      <th>164</th>\n",
              "      <th>165</th>\n",
              "      <th>166</th>\n",
              "      <th>167</th>\n",
              "    </tr>\n",
              "    <tr>\n",
              "      <th>Date</th>\n",
              "      <th></th>\n",
              "      <th></th>\n",
              "      <th></th>\n",
              "      <th></th>\n",
              "      <th></th>\n",
              "      <th></th>\n",
              "      <th></th>\n",
              "      <th></th>\n",
              "      <th></th>\n",
              "      <th></th>\n",
              "      <th></th>\n",
              "      <th></th>\n",
              "      <th></th>\n",
              "      <th></th>\n",
              "      <th></th>\n",
              "      <th></th>\n",
              "      <th></th>\n",
              "      <th></th>\n",
              "      <th></th>\n",
              "      <th></th>\n",
              "      <th></th>\n",
              "    </tr>\n",
              "  </thead>\n",
              "  <tbody>\n",
              "    <tr>\n",
              "      <th>2019-01-01</th>\n",
              "      <td>1062</td>\n",
              "      <td>33</td>\n",
              "      <td>67</td>\n",
              "      <td>42</td>\n",
              "      <td>0</td>\n",
              "      <td>4</td>\n",
              "      <td>0</td>\n",
              "      <td>0</td>\n",
              "      <td>1</td>\n",
              "      <td>69</td>\n",
              "      <td>...</td>\n",
              "      <td>0</td>\n",
              "      <td>0</td>\n",
              "      <td>4</td>\n",
              "      <td>0</td>\n",
              "      <td>10</td>\n",
              "      <td>2</td>\n",
              "      <td>2</td>\n",
              "      <td>2</td>\n",
              "      <td>0</td>\n",
              "      <td>0</td>\n",
              "    </tr>\n",
              "    <tr>\n",
              "      <th>2019-01-02</th>\n",
              "      <td>976</td>\n",
              "      <td>41</td>\n",
              "      <td>72</td>\n",
              "      <td>19</td>\n",
              "      <td>2</td>\n",
              "      <td>0</td>\n",
              "      <td>0</td>\n",
              "      <td>14</td>\n",
              "      <td>1</td>\n",
              "      <td>62</td>\n",
              "      <td>...</td>\n",
              "      <td>5</td>\n",
              "      <td>0</td>\n",
              "      <td>0</td>\n",
              "      <td>7</td>\n",
              "      <td>0</td>\n",
              "      <td>0</td>\n",
              "      <td>0</td>\n",
              "      <td>0</td>\n",
              "      <td>1</td>\n",
              "      <td>3</td>\n",
              "    </tr>\n",
              "    <tr>\n",
              "      <th>2019-01-03</th>\n",
              "      <td>956</td>\n",
              "      <td>27</td>\n",
              "      <td>71</td>\n",
              "      <td>28</td>\n",
              "      <td>4</td>\n",
              "      <td>6</td>\n",
              "      <td>11</td>\n",
              "      <td>0</td>\n",
              "      <td>0</td>\n",
              "      <td>64</td>\n",
              "      <td>...</td>\n",
              "      <td>0</td>\n",
              "      <td>0</td>\n",
              "      <td>0</td>\n",
              "      <td>0</td>\n",
              "      <td>6</td>\n",
              "      <td>0</td>\n",
              "      <td>0</td>\n",
              "      <td>3</td>\n",
              "      <td>0</td>\n",
              "      <td>0</td>\n",
              "    </tr>\n",
              "  </tbody>\n",
              "</table>\n",
              "<p>3 rows × 167 columns</p>\n",
              "</div>\n",
              "      <button class=\"colab-df-convert\" onclick=\"convertToInteractive('df-357c68ad-16d2-4990-942b-42a668cb04b9')\"\n",
              "              title=\"Convert this dataframe to an interactive table.\"\n",
              "              style=\"display:none;\">\n",
              "        \n",
              "  <svg xmlns=\"http://www.w3.org/2000/svg\" height=\"24px\"viewBox=\"0 0 24 24\"\n",
              "       width=\"24px\">\n",
              "    <path d=\"M0 0h24v24H0V0z\" fill=\"none\"/>\n",
              "    <path d=\"M18.56 5.44l.94 2.06.94-2.06 2.06-.94-2.06-.94-.94-2.06-.94 2.06-2.06.94zm-11 1L8.5 8.5l.94-2.06 2.06-.94-2.06-.94L8.5 2.5l-.94 2.06-2.06.94zm10 10l.94 2.06.94-2.06 2.06-.94-2.06-.94-.94-2.06-.94 2.06-2.06.94z\"/><path d=\"M17.41 7.96l-1.37-1.37c-.4-.4-.92-.59-1.43-.59-.52 0-1.04.2-1.43.59L10.3 9.45l-7.72 7.72c-.78.78-.78 2.05 0 2.83L4 21.41c.39.39.9.59 1.41.59.51 0 1.02-.2 1.41-.59l7.78-7.78 2.81-2.81c.8-.78.8-2.07 0-2.86zM5.41 20L4 18.59l7.72-7.72 1.47 1.35L5.41 20z\"/>\n",
              "  </svg>\n",
              "      </button>\n",
              "      \n",
              "  <style>\n",
              "    .colab-df-container {\n",
              "      display:flex;\n",
              "      flex-wrap:wrap;\n",
              "      gap: 12px;\n",
              "    }\n",
              "\n",
              "    .colab-df-convert {\n",
              "      background-color: #E8F0FE;\n",
              "      border: none;\n",
              "      border-radius: 50%;\n",
              "      cursor: pointer;\n",
              "      display: none;\n",
              "      fill: #1967D2;\n",
              "      height: 32px;\n",
              "      padding: 0 0 0 0;\n",
              "      width: 32px;\n",
              "    }\n",
              "\n",
              "    .colab-df-convert:hover {\n",
              "      background-color: #E2EBFA;\n",
              "      box-shadow: 0px 1px 2px rgba(60, 64, 67, 0.3), 0px 1px 3px 1px rgba(60, 64, 67, 0.15);\n",
              "      fill: #174EA6;\n",
              "    }\n",
              "\n",
              "    [theme=dark] .colab-df-convert {\n",
              "      background-color: #3B4455;\n",
              "      fill: #D2E3FC;\n",
              "    }\n",
              "\n",
              "    [theme=dark] .colab-df-convert:hover {\n",
              "      background-color: #434B5C;\n",
              "      box-shadow: 0px 1px 3px 1px rgba(0, 0, 0, 0.15);\n",
              "      filter: drop-shadow(0px 1px 2px rgba(0, 0, 0, 0.3));\n",
              "      fill: #FFFFFF;\n",
              "    }\n",
              "  </style>\n",
              "\n",
              "      <script>\n",
              "        const buttonEl =\n",
              "          document.querySelector('#df-357c68ad-16d2-4990-942b-42a668cb04b9 button.colab-df-convert');\n",
              "        buttonEl.style.display =\n",
              "          google.colab.kernel.accessAllowed ? 'block' : 'none';\n",
              "\n",
              "        async function convertToInteractive(key) {\n",
              "          const element = document.querySelector('#df-357c68ad-16d2-4990-942b-42a668cb04b9');\n",
              "          const dataTable =\n",
              "            await google.colab.kernel.invokeFunction('convertToInteractive',\n",
              "                                                     [key], {});\n",
              "          if (!dataTable) return;\n",
              "\n",
              "          const docLinkHtml = 'Like what you see? Visit the ' +\n",
              "            '<a target=\"_blank\" href=https://colab.research.google.com/notebooks/data_table.ipynb>data table notebook</a>'\n",
              "            + ' to learn more about interactive tables.';\n",
              "          element.innerHTML = '';\n",
              "          dataTable['output_type'] = 'display_data';\n",
              "          await google.colab.output.renderOutput(dataTable, element);\n",
              "          const docLink = document.createElement('div');\n",
              "          docLink.innerHTML = docLinkHtml;\n",
              "          element.appendChild(docLink);\n",
              "        }\n",
              "      </script>\n",
              "    </div>\n",
              "  </div>\n",
              "  "
            ]
          },
          "metadata": {},
          "execution_count": 106
        }
      ]
    },
    {
      "cell_type": "code",
      "source": [
        "data.sum()"
      ],
      "metadata": {
        "colab": {
          "base_uri": "https://localhost:8080/"
        },
        "id": "kvrufBRtWCtJ",
        "outputId": "200bcffa-e703-4b6f-d6c5-2278c5bacece"
      },
      "execution_count": 107,
      "outputs": [
        {
          "output_type": "execute_result",
          "data": {
            "text/plain": [
              "001    379682\n",
              "002     17401\n",
              "003     27249\n",
              "004     11668\n",
              "005       533\n",
              "        ...  \n",
              "163       872\n",
              "164       360\n",
              "165       685\n",
              "166       966\n",
              "167      1196\n",
              "Length: 167, dtype: int64"
            ]
          },
          "metadata": {},
          "execution_count": 107
        }
      ]
    },
    {
      "cell_type": "markdown",
      "source": [
        "###**The dataframes values are NOT SORTED as you can see below. The value of the SUM IS SORTED. But the dataframe.sum() values are sorted!**"
      ],
      "metadata": {
        "id": "cBIFyDb2VFkp"
      }
    },
    {
      "cell_type": "code",
      "source": [
        "#Reindex to go. from highest to lowest value, as ascending=False\n",
        "data = data.reindex(data.sum().sort_values(ascending=False).index, axis=1)\n",
        "data.head(3)\n",
        "# print(data.sum().head(15))"
      ],
      "metadata": {
        "colab": {
          "base_uri": "https://localhost:8080/",
          "height": 204
        },
        "id": "vwVikHOkPS2C",
        "outputId": "319a7390-1ba7-45a4-9878-50a7339078bb"
      },
      "execution_count": 108,
      "outputs": [
        {
          "output_type": "execute_result",
          "data": {
            "text/plain": [
              "             015   001  003  080  155  156  048  002  010  004  ...  159  022  \\\n",
              "Date                                                            ...             \n",
              "2019-01-01  1184  1062   67   67   39   47   37   33   69   42  ...    0    0   \n",
              "2019-01-02  1266   976   72   61   59   56   39   41   62   19  ...    0    0   \n",
              "2019-01-03  1047   956   71   44   58   46   38   27   64   28  ...    0    0   \n",
              "\n",
              "            126  029  059  138  160  079  081  101  \n",
              "Date                                                \n",
              "2019-01-01    2    0    1    2    4    1    2    0  \n",
              "2019-01-02    2    0    0    1    0    2    0    0  \n",
              "2019-01-03    2    0    0    0    0    3    3    0  \n",
              "\n",
              "[3 rows x 167 columns]"
            ],
            "text/html": [
              "\n",
              "  <div id=\"df-4d9b96d9-0e48-4a0b-937b-feb7423c8c0b\">\n",
              "    <div class=\"colab-df-container\">\n",
              "      <div>\n",
              "<style scoped>\n",
              "    .dataframe tbody tr th:only-of-type {\n",
              "        vertical-align: middle;\n",
              "    }\n",
              "\n",
              "    .dataframe tbody tr th {\n",
              "        vertical-align: top;\n",
              "    }\n",
              "\n",
              "    .dataframe thead th {\n",
              "        text-align: right;\n",
              "    }\n",
              "</style>\n",
              "<table border=\"1\" class=\"dataframe\">\n",
              "  <thead>\n",
              "    <tr style=\"text-align: right;\">\n",
              "      <th></th>\n",
              "      <th>015</th>\n",
              "      <th>001</th>\n",
              "      <th>003</th>\n",
              "      <th>080</th>\n",
              "      <th>155</th>\n",
              "      <th>156</th>\n",
              "      <th>048</th>\n",
              "      <th>002</th>\n",
              "      <th>010</th>\n",
              "      <th>004</th>\n",
              "      <th>...</th>\n",
              "      <th>159</th>\n",
              "      <th>022</th>\n",
              "      <th>126</th>\n",
              "      <th>029</th>\n",
              "      <th>059</th>\n",
              "      <th>138</th>\n",
              "      <th>160</th>\n",
              "      <th>079</th>\n",
              "      <th>081</th>\n",
              "      <th>101</th>\n",
              "    </tr>\n",
              "    <tr>\n",
              "      <th>Date</th>\n",
              "      <th></th>\n",
              "      <th></th>\n",
              "      <th></th>\n",
              "      <th></th>\n",
              "      <th></th>\n",
              "      <th></th>\n",
              "      <th></th>\n",
              "      <th></th>\n",
              "      <th></th>\n",
              "      <th></th>\n",
              "      <th></th>\n",
              "      <th></th>\n",
              "      <th></th>\n",
              "      <th></th>\n",
              "      <th></th>\n",
              "      <th></th>\n",
              "      <th></th>\n",
              "      <th></th>\n",
              "      <th></th>\n",
              "      <th></th>\n",
              "      <th></th>\n",
              "    </tr>\n",
              "  </thead>\n",
              "  <tbody>\n",
              "    <tr>\n",
              "      <th>2019-01-01</th>\n",
              "      <td>1184</td>\n",
              "      <td>1062</td>\n",
              "      <td>67</td>\n",
              "      <td>67</td>\n",
              "      <td>39</td>\n",
              "      <td>47</td>\n",
              "      <td>37</td>\n",
              "      <td>33</td>\n",
              "      <td>69</td>\n",
              "      <td>42</td>\n",
              "      <td>...</td>\n",
              "      <td>0</td>\n",
              "      <td>0</td>\n",
              "      <td>2</td>\n",
              "      <td>0</td>\n",
              "      <td>1</td>\n",
              "      <td>2</td>\n",
              "      <td>4</td>\n",
              "      <td>1</td>\n",
              "      <td>2</td>\n",
              "      <td>0</td>\n",
              "    </tr>\n",
              "    <tr>\n",
              "      <th>2019-01-02</th>\n",
              "      <td>1266</td>\n",
              "      <td>976</td>\n",
              "      <td>72</td>\n",
              "      <td>61</td>\n",
              "      <td>59</td>\n",
              "      <td>56</td>\n",
              "      <td>39</td>\n",
              "      <td>41</td>\n",
              "      <td>62</td>\n",
              "      <td>19</td>\n",
              "      <td>...</td>\n",
              "      <td>0</td>\n",
              "      <td>0</td>\n",
              "      <td>2</td>\n",
              "      <td>0</td>\n",
              "      <td>0</td>\n",
              "      <td>1</td>\n",
              "      <td>0</td>\n",
              "      <td>2</td>\n",
              "      <td>0</td>\n",
              "      <td>0</td>\n",
              "    </tr>\n",
              "    <tr>\n",
              "      <th>2019-01-03</th>\n",
              "      <td>1047</td>\n",
              "      <td>956</td>\n",
              "      <td>71</td>\n",
              "      <td>44</td>\n",
              "      <td>58</td>\n",
              "      <td>46</td>\n",
              "      <td>38</td>\n",
              "      <td>27</td>\n",
              "      <td>64</td>\n",
              "      <td>28</td>\n",
              "      <td>...</td>\n",
              "      <td>0</td>\n",
              "      <td>0</td>\n",
              "      <td>2</td>\n",
              "      <td>0</td>\n",
              "      <td>0</td>\n",
              "      <td>0</td>\n",
              "      <td>0</td>\n",
              "      <td>3</td>\n",
              "      <td>3</td>\n",
              "      <td>0</td>\n",
              "    </tr>\n",
              "  </tbody>\n",
              "</table>\n",
              "<p>3 rows × 167 columns</p>\n",
              "</div>\n",
              "      <button class=\"colab-df-convert\" onclick=\"convertToInteractive('df-4d9b96d9-0e48-4a0b-937b-feb7423c8c0b')\"\n",
              "              title=\"Convert this dataframe to an interactive table.\"\n",
              "              style=\"display:none;\">\n",
              "        \n",
              "  <svg xmlns=\"http://www.w3.org/2000/svg\" height=\"24px\"viewBox=\"0 0 24 24\"\n",
              "       width=\"24px\">\n",
              "    <path d=\"M0 0h24v24H0V0z\" fill=\"none\"/>\n",
              "    <path d=\"M18.56 5.44l.94 2.06.94-2.06 2.06-.94-2.06-.94-.94-2.06-.94 2.06-2.06.94zm-11 1L8.5 8.5l.94-2.06 2.06-.94-2.06-.94L8.5 2.5l-.94 2.06-2.06.94zm10 10l.94 2.06.94-2.06 2.06-.94-2.06-.94-.94-2.06-.94 2.06-2.06.94z\"/><path d=\"M17.41 7.96l-1.37-1.37c-.4-.4-.92-.59-1.43-.59-.52 0-1.04.2-1.43.59L10.3 9.45l-7.72 7.72c-.78.78-.78 2.05 0 2.83L4 21.41c.39.39.9.59 1.41.59.51 0 1.02-.2 1.41-.59l7.78-7.78 2.81-2.81c.8-.78.8-2.07 0-2.86zM5.41 20L4 18.59l7.72-7.72 1.47 1.35L5.41 20z\"/>\n",
              "  </svg>\n",
              "      </button>\n",
              "      \n",
              "  <style>\n",
              "    .colab-df-container {\n",
              "      display:flex;\n",
              "      flex-wrap:wrap;\n",
              "      gap: 12px;\n",
              "    }\n",
              "\n",
              "    .colab-df-convert {\n",
              "      background-color: #E8F0FE;\n",
              "      border: none;\n",
              "      border-radius: 50%;\n",
              "      cursor: pointer;\n",
              "      display: none;\n",
              "      fill: #1967D2;\n",
              "      height: 32px;\n",
              "      padding: 0 0 0 0;\n",
              "      width: 32px;\n",
              "    }\n",
              "\n",
              "    .colab-df-convert:hover {\n",
              "      background-color: #E2EBFA;\n",
              "      box-shadow: 0px 1px 2px rgba(60, 64, 67, 0.3), 0px 1px 3px 1px rgba(60, 64, 67, 0.15);\n",
              "      fill: #174EA6;\n",
              "    }\n",
              "\n",
              "    [theme=dark] .colab-df-convert {\n",
              "      background-color: #3B4455;\n",
              "      fill: #D2E3FC;\n",
              "    }\n",
              "\n",
              "    [theme=dark] .colab-df-convert:hover {\n",
              "      background-color: #434B5C;\n",
              "      box-shadow: 0px 1px 3px 1px rgba(0, 0, 0, 0.15);\n",
              "      filter: drop-shadow(0px 1px 2px rgba(0, 0, 0, 0.3));\n",
              "      fill: #FFFFFF;\n",
              "    }\n",
              "  </style>\n",
              "\n",
              "      <script>\n",
              "        const buttonEl =\n",
              "          document.querySelector('#df-4d9b96d9-0e48-4a0b-937b-feb7423c8c0b button.colab-df-convert');\n",
              "        buttonEl.style.display =\n",
              "          google.colab.kernel.accessAllowed ? 'block' : 'none';\n",
              "\n",
              "        async function convertToInteractive(key) {\n",
              "          const element = document.querySelector('#df-4d9b96d9-0e48-4a0b-937b-feb7423c8c0b');\n",
              "          const dataTable =\n",
              "            await google.colab.kernel.invokeFunction('convertToInteractive',\n",
              "                                                     [key], {});\n",
              "          if (!dataTable) return;\n",
              "\n",
              "          const docLinkHtml = 'Like what you see? Visit the ' +\n",
              "            '<a target=\"_blank\" href=https://colab.research.google.com/notebooks/data_table.ipynb>data table notebook</a>'\n",
              "            + ' to learn more about interactive tables.';\n",
              "          element.innerHTML = '';\n",
              "          dataTable['output_type'] = 'display_data';\n",
              "          await google.colab.output.renderOutput(dataTable, element);\n",
              "          const docLink = document.createElement('div');\n",
              "          docLink.innerHTML = docLinkHtml;\n",
              "          element.appendChild(docLink);\n",
              "        }\n",
              "      </script>\n",
              "    </div>\n",
              "  </div>\n",
              "  "
            ]
          },
          "metadata": {},
          "execution_count": 108
        }
      ]
    },
    {
      "cell_type": "code",
      "source": [
        "data.sum()"
      ],
      "metadata": {
        "colab": {
          "base_uri": "https://localhost:8080/"
        },
        "id": "fxPgdyWyVc8Z",
        "outputId": "2de327b4-7dd1-4d50-a3d1-c0c030c7a9ca"
      },
      "execution_count": 109,
      "outputs": [
        {
          "output_type": "execute_result",
          "data": {
            "text/plain": [
              "015    467123\n",
              "001    379682\n",
              "003     27249\n",
              "080     23357\n",
              "155     22183\n",
              "        ...  \n",
              "138       308\n",
              "160       302\n",
              "079       301\n",
              "081       300\n",
              "101       271\n",
              "Length: 167, dtype: int64"
            ]
          },
          "metadata": {},
          "execution_count": 109
        }
      ]
    },
    {
      "cell_type": "markdown",
      "source": [
        "#**2. Create a bar chart showing the total number of hits for all pages.**"
      ],
      "metadata": {
        "id": "e6aB8GOfWplF"
      }
    },
    {
      "cell_type": "code",
      "source": [
        "data.sum().plot.bar(width=0.8, rot=0, figsize=(8,8), xlabel=\"Pages\", ylabel=\"Hits\", title=\"Total hits per page\", fontsize=15) #does not change the font size for the labels !!!!!"
      ],
      "metadata": {
        "colab": {
          "base_uri": "https://localhost:8080/",
          "height": 535
        },
        "id": "UUHXDR5aZciV",
        "outputId": "2e7cc0b8-e59d-44c8-e8e4-dd4f1053305f"
      },
      "execution_count": 110,
      "outputs": [
        {
          "output_type": "execute_result",
          "data": {
            "text/plain": [
              "<matplotlib.axes._subplots.AxesSubplot at 0x7f3cd5621670>"
            ]
          },
          "metadata": {},
          "execution_count": 110
        },
        {
          "output_type": "display_data",
          "data": {
            "text/plain": [
              "<Figure size 576x576 with 1 Axes>"
            ],
            "image/png": "[encoded data removed]"
          },
          "metadata": {
            "needs_background": "light"
          }
        }
      ]
    },
    {
      "cell_type": "code",
      "source": [
        "plt.figure(figsize=(8,8))\n",
        "x_pos = np.arange(len(data.columns))\n",
        "print(x_pos)"
      ],
      "metadata": {
        "colab": {
          "base_uri": "https://localhost:8080/",
          "height": 208
        },
        "id": "ialmc3zsZwZ_",
        "outputId": "b121d49c-7413-48a4-fde7-3379ea4f7471"
      },
      "execution_count": 111,
      "outputs": [
        {
          "output_type": "stream",
          "name": "stdout",
          "text": [
            "[  0   1   2   3   4   5   6   7   8   9  10  11  12  13  14  15  16  17\n",
            "  18  19  20  21  22  23  24  25  26  27  28  29  30  31  32  33  34  35\n",
            "  36  37  38  39  40  41  42  43  44  45  46  47  48  49  50  51  52  53\n",
            "  54  55  56  57  58  59  60  61  62  63  64  65  66  67  68  69  70  71\n",
            "  72  73  74  75  76  77  78  79  80  81  82  83  84  85  86  87  88  89\n",
            "  90  91  92  93  94  95  96  97  98  99 100 101 102 103 104 105 106 107\n",
            " 108 109 110 111 112 113 114 115 116 117 118 119 120 121 122 123 124 125\n",
            " 126 127 128 129 130 131 132 133 134 135 136 137 138 139 140 141 142 143\n",
            " 144 145 146 147 148 149 150 151 152 153 154 155 156 157 158 159 160 161\n",
            " 162 163 164 165 166]\n"
          ]
        },
        {
          "output_type": "display_data",
          "data": {
            "text/plain": [
              "<Figure size 576x576 with 0 Axes>"
            ]
          },
          "metadata": {}
        }
      ]
    },
    {
      "cell_type": "code",
      "source": [
        "plt.figure(figsize=(8,8))\n",
        "x_pos = np.arange(len(data.columns))\n",
        "\n",
        "plt.bar(x_pos, data.sum(), align=\"center\")\n",
        "plt.xticks(x_pos, data.columns);\n",
        "\n",
        "plt.xlabel('Pages', fontsize=18)\n",
        "plt.ylabel('Units sold', fontsize=18)\n",
        "plt.title('Total Page hits', fontsize=20)\n",
        "plt.show()\n"
      ],
      "metadata": {
        "colab": {
          "base_uri": "https://localhost:8080/",
          "height": 526
        },
        "id": "Y76XmsGzaQip",
        "outputId": "72d8a8b4-5321-492d-aebf-031fc4595a4e"
      },
      "execution_count": 112,
      "outputs": [
        {
          "output_type": "display_data",
          "data": {
            "text/plain": [
              "<Figure size 576x576 with 1 Axes>"
            ],
            "image/png": "[encoded data removed]"
          },
          "metadata": {
            "needs_background": "light"
          }
        }
      ]
    },
    {
      "cell_type": "code",
      "source": [
        "plt.figure(figsize=(8,8))\n",
        "x_pos = np.arange(len(data.columns))\n",
        "\n",
        "plt.bar(x_pos, data.sum(), align=\"center\")\n",
        "# plt.xticks(x_pos, data.columns);\n",
        "\n",
        "plt.xlabel('Pages', fontsize=18)\n",
        "plt.ylabel('Units sold', fontsize=18)\n",
        "plt.title('Total Page hits', fontsize=20)\n",
        "plt.show()"
      ],
      "metadata": {
        "colab": {
          "base_uri": "https://localhost:8080/",
          "height": 526
        },
        "id": "uQeGp_p_boG9",
        "outputId": "e26c5b42-18a2-4d22-a8f6-2f2d2ee9c77d"
      },
      "execution_count": 113,
      "outputs": [
        {
          "output_type": "display_data",
          "data": {
            "text/plain": [
              "<Figure size 576x576 with 1 Axes>"
            ],
            "image/png": "[encoded data removed]"
          },
          "metadata": {
            "needs_background": "light"
          }
        }
      ]
    },
    {
      "cell_type": "markdown",
      "source": [
        "##**Parameters:**\n",
        "###1) x : xfloat or array-like\n",
        "    The x coordinates of the bars. See also align for the alignment of the bars to the coordinates.\n",
        "\n",
        "###2) height : heightfloat or array-like\n",
        "    The height(s) of the bars.\n",
        "\n",
        "###3)width : widthfloat or array-like, default: 0.8\n",
        "    The width(s) of the bars.\n",
        "\n",
        "###4) bottom : bottomfloat or array-like, default: 0\n",
        "\n",
        "###5) align: The y coordinate(s) of the bottom side(s) of the bars.\n",
        "    align{'center', 'edge'}, default: 'center'"
      ],
      "metadata": {
        "id": "1oLTtZaVgHbQ"
      }
    },
    {
      "cell_type": "markdown",
      "source": [
        "#**3. Create a bar chart showing the total number of hits for high volume pages.**"
      ],
      "metadata": {
        "id": "1rDbEUCyc7kX"
      }
    },
    {
      "cell_type": "code",
      "source": [
        "selected = ['015', '001']\n",
        "print(data[selected].head())\n",
        "\n",
        "# data[selected].sum().plot.bar(width=0.8, rot=0, figsize=(8, 8))------------OR----------\n",
        "plt.figure(figsize=(4, 4))\n",
        "x_pos = np.arange(len(data[selected].columns))\n",
        "plt.bar(x_pos, data[selected].sum(), align='center')\n",
        "plt.xticks(x_pos, data[selected].columns)\n",
        "plt.xlabel('High vol pages', fontsize=18)\n",
        "plt.ylabel('Hits', fontsize=18)\n",
        "plt.title('High Volume hits per page', fontsize=20)\n",
        "plt.show()"
      ],
      "metadata": {
        "colab": {
          "base_uri": "https://localhost:8080/",
          "height": 429
        },
        "id": "BDcaYFvZc6rX",
        "outputId": "7ac739e6-d0aa-41c2-d859-5418a0308288"
      },
      "execution_count": 114,
      "outputs": [
        {
          "output_type": "stream",
          "name": "stdout",
          "text": [
            "             015   001\n",
            "Date                  \n",
            "2019-01-01  1184  1062\n",
            "2019-01-02  1266   976\n",
            "2019-01-03  1047   956\n",
            "2019-01-04  1108   976\n",
            "2019-01-05  1214   956\n"
          ]
        },
        {
          "output_type": "display_data",
          "data": {
            "text/plain": [
              "<Figure size 288x288 with 1 Axes>"
            ],
            "image/png": "[encoded data removed]"
          },
          "metadata": {
            "needs_background": "light"
          }
        }
      ]
    },
    {
      "cell_type": "markdown",
      "source": [
        "#**4. Create a bar chart showing the total number of hits for medium volume pages.**"
      ],
      "metadata": {
        "id": "c6wWOBn1cveo"
      }
    },
    {
      "cell_type": "code",
      "source": [
        "selected = ['048', '002', '003', '004', '010', '080', '155', '156']\n",
        "print(data[selected].head())\n",
        "\n",
        "# data[selected].sum().plot.bar(width=0.8, rot=0, figsize=(8, 8))------------OR----------\n",
        "plt.figure(figsize=(4, 4))\n",
        "x_pos = np.arange(len(data[selected].columns))\n",
        "plt.bar(x_pos, data[selected].sum(), align='center')\n",
        "plt.xticks(x_pos, data[selected].columns)\n",
        "plt.xlabel('Median vol pages', fontsize=18)\n",
        "plt.ylabel('Hits', fontsize=18)\n",
        "plt.title('Median Volume hits per page', fontsize=20)\n",
        "plt.show()"
      ],
      "metadata": {
        "colab": {
          "base_uri": "https://localhost:8080/",
          "height": 429
        },
        "id": "Gmbm8r7Dd6Nb",
        "outputId": "865c7453-5dca-4d42-a6e0-2eea70c6075d"
      },
      "execution_count": 115,
      "outputs": [
        {
          "output_type": "stream",
          "name": "stdout",
          "text": [
            "            048  002  003  004  010  080  155  156\n",
            "Date                                              \n",
            "2019-01-01   37   33   67   42   69   67   39   47\n",
            "2019-01-02   39   41   72   19   62   61   59   56\n",
            "2019-01-03   38   27   71   28   64   44   58   46\n",
            "2019-01-04   35   30   57   29   52   61   39   52\n",
            "2019-01-05   45   45   65   27   55   61   40   41\n"
          ]
        },
        {
          "output_type": "display_data",
          "data": {
            "text/plain": [
              "<Figure size 288x288 with 1 Axes>"
            ],
            "image/png": "[encoded data removed]"
          },
          "metadata": {
            "needs_background": "light"
          }
        }
      ]
    },
    {
      "cell_type": "markdown",
      "source": [
        "#**5. Create a bar chart showing the total number of hits for low volume pages**\n",
        "[Hint: this is a bit harder than the\n",
        "lecture example as there are too many low volume pages for you to list them all. Instead, select the columns\n",
        "by value as described last week.]"
      ],
      "metadata": {
        "id": "--I7Dd_Peulg"
      }
    },
    {
      "cell_type": "code",
      "source": [
        "selected = data.columns[data.sum() < 5000]\n",
        "print(data[selected].head())\n",
        "\n",
        "# data[selected].sum().plot.bar(width=0.8, rot=0, figsize=(8, 8))------------OR----------\n",
        "plt.figure(figsize=(4, 4))\n",
        "x_pos = np.arange(len(data[selected].columns))\n",
        "plt.bar(x_pos, data[selected].sum(), align='center')\n",
        "plt.xticks(x_pos, data[selected].columns)\n",
        "plt.xlabel('Median vol pages', fontsize=18)\n",
        "plt.ylabel('Hits', fontsize=18)\n",
        "plt.title('Median Volume hits per page', fontsize=20)\n",
        "plt.show()"
      ],
      "metadata": {
        "colab": {
          "base_uri": "https://localhost:8080/",
          "height": 603
        },
        "id": "DlwOK3dReVuq",
        "outputId": "ddad5f36-0f74-4abd-b585-4ae213913ed0"
      },
      "execution_count": 116,
      "outputs": [
        {
          "output_type": "stream",
          "name": "stdout",
          "text": [
            "            008  122  092  018  045  025  088  151  051  038  ...  159  022  \\\n",
            "Date                                                          ...             \n",
            "2019-01-01    0    0    2    6    1    9    0    6    5    7  ...    0    0   \n",
            "2019-01-02   14   12    4    0    0    0    5    0    0    0  ...    0    0   \n",
            "2019-01-03    0    0    0    2    0    5    1    7    9    4  ...    0    0   \n",
            "2019-01-04    0   10    0    5    0    0    0    9    0    0  ...    2    4   \n",
            "2019-01-05    0    0   15    0    0   13    6    0    5    4  ...    0    0   \n",
            "\n",
            "            126  029  059  138  160  079  081  101  \n",
            "Date                                                \n",
            "2019-01-01    2    0    1    2    4    1    2    0  \n",
            "2019-01-02    2    0    0    1    0    2    0    0  \n",
            "2019-01-03    2    0    0    0    0    3    3    0  \n",
            "2019-01-04    0    0    0    0    0    0    0    0  \n",
            "2019-01-05    0    0    0    0    0    3    1    1  \n",
            "\n",
            "[5 rows x 157 columns]\n"
          ]
        },
        {
          "output_type": "display_data",
          "data": {
            "text/plain": [
              "<Figure size 288x288 with 1 Axes>"
            ],
            "image/png": "[encoded data removed]"
          },
          "metadata": {
            "needs_background": "light"
          }
        }
      ]
    },
    {
      "cell_type": "markdown",
      "source": [
        "#**6. Now by modifying the code in 06BarChartAutomatic.py, create a code block in your Notebook that**\n",
        "automatically classifies pages into high, medium and low volume pages. You will need to decide the\n",
        "boundaries for each type. Your code block should produce 3 bar charts. [Hint: if you modified the data in\n",
        "item 5 above by dropping columns, you will need to read it in again in this block.]"
      ],
      "metadata": {
        "id": "867jm5lhgRLb"
      }
    },
    {
      "cell_type": "code",
      "source": [
        "categories = ['High', 'Medium', 'Low']\n",
        "categories_selected = [[] for i in range(len(categories))] #CREATES 4 SEPERATE LISTS\n",
        "#categories = [[], [], [], []]\n",
        "print(data.columns)\n",
        "\n",
        "for name in data.columns: #data.columns = ['015', '001', '003', '080', '155', '156', '048', '002', '.......]\n",
        "    total_sales = data[name].sum()\n",
        "    if total_sales > 100000:\n",
        "        category = 0\n",
        "    elif total_sales > 5000:\n",
        "        category = 1\n",
        "    else:\n",
        "        category = 2\n",
        "    categories_selected[category].append(name) #adds the name i.i. \"015\" to the \"High\" category llist \n",
        "    # print('Product ' + name + ' is ' + categories[category] + ' volume')\n",
        "\n",
        "# for i in range(len(categories)):\n",
        "#     print(categories[i] + ': ' + str(categories_selected[i]))\n",
        "\n",
        "# for i, selected in enumerate(categories_selected):\n",
        "#     plt.figure(figsize=(4, 4))\n",
        "#     x_pos = np.arange(len(data[selected].columns))\n",
        "#     plt.bar(x_pos, data[selected].sum(), align='center')\n",
        "#     plt.xticks(x_pos, data[selected].columns)\n",
        "#     plt.xlabel('Products', fontsize=18)\n",
        "#     plt.ylabel('Units sold', fontsize=18)\n",
        "#     plt.title(categories[i] + ' Volume Product Sales', fontsize=20)\n",
        "#     plt.show()"
      ],
      "metadata": {
        "colab": {
          "base_uri": "https://localhost:8080/"
        },
        "id": "QnhgnEUye9Em",
        "outputId": "d55c3f69-bd46-4798-9c61-b81ae57bd9d6"
      },
      "execution_count": 117,
      "outputs": [
        {
          "output_type": "stream",
          "name": "stdout",
          "text": [
            "Index(['015', '001', '003', '080', '155', '156', '048', '002', '010', '004',\n",
            "       ...\n",
            "       '159', '022', '126', '029', '059', '138', '160', '079', '081', '101'],\n",
            "      dtype='object', length=167)\n"
          ]
        }
      ]
    },
    {
      "cell_type": "code",
      "source": [
        "categories = ['High', 'Medium', 'Low']\n",
        "categories_selected = [[] for i in range(len(categories))] #CREATES 4 SEPERATE LISTS\n",
        "#categories = [[], [], [], []]\n",
        "print(data.columns)\n",
        "\n",
        "for name in data.columns: #data.columns = ['015', '001', '003', '080', '155', '156', '048', '002', '.......]\n",
        "    total_hits = data[name].sum()\n",
        "    if total_hits > 100000:\n",
        "        category = 0\n",
        "    elif total_hits > 5000:\n",
        "        category = 1\n",
        "    else:\n",
        "        category = 2\n",
        "    categories_selected[category].append(name) #adds the name i.i. \"015\" to the \"High\" category llist \n",
        "    # print('Product ' + name + ' is ' + categories[category] + ' volume')\n",
        "\n",
        "# for i in range(len(categories)):\n",
        "#     print(categories[i] + ': ' + str(categories_selected[i]))\n",
        "\n",
        "for i, selected in enumerate(categories_selected):\n",
        "    plt.figure(figsize=(4, 4))\n",
        "    x_pos = np.arange(len(data[selected].columns))\n",
        "    plt.bar(x_pos, data[selected].sum(), align='center')\n",
        "    plt.xticks(x_pos, data[selected].columns)\n",
        "    plt.xlabel('Pages', fontsize=18)\n",
        "    plt.ylabel('Hits', fontsize=18)\n",
        "    plt.title(categories[i] + 'Total hits per page', fontsize=20)\n",
        "    plt.show()"
      ],
      "metadata": {
        "colab": {
          "base_uri": "https://localhost:8080/",
          "height": 959
        },
        "id": "P8yIsTj-nmej",
        "outputId": "b66a11da-90de-45d7-cbfb-51afe56fcbe0"
      },
      "execution_count": 118,
      "outputs": [
        {
          "output_type": "stream",
          "name": "stdout",
          "text": [
            "Index(['015', '001', '003', '080', '155', '156', '048', '002', '010', '004',\n",
            "       ...\n",
            "       '159', '022', '126', '029', '059', '138', '160', '079', '081', '101'],\n",
            "      dtype='object', length=167)\n"
          ]
        },
        {
          "output_type": "display_data",
          "data": {
            "text/plain": [
              "<Figure size 288x288 with 1 Axes>"
            ],
            "image/png": "[encoded data removed]"
          },
          "metadata": {
            "needs_background": "light"
          }
        },
        {
          "output_type": "display_data",
          "data": {
            "text/plain": [
              "<Figure size 288x288 with 1 Axes>"
            ],
            "image/png": "[encoded data removed]"
          },
          "metadata": {
            "needs_background": "light"
          }
        },
        {
          "output_type": "display_data",
          "data": {
            "text/plain": [
              "<Figure size 288x288 with 1 Axes>"
            ],
            "image/png": "[encoded data removed]"
          },
          "metadata": {
            "needs_background": "light"
          }
        }
      ]
    },
    {
      "cell_type": "markdown",
      "source": [
        "###TRYING ON MY OWN:"
      ],
      "metadata": {
        "id": "mt4ztSWmh4N2"
      }
    },
    {
      "cell_type": "code",
      "source": [
        "categories_selected = [[] for i in range(len(categories))]\n",
        "\n",
        "for name in data.columns: #data.columns = ['015', '001', '003', '080', '155', '156', '048', '002', '.......]\n",
        "    total_sales = data[name].sum()\n",
        "    if total_sales > 100000:\n",
        "        category = 0\n",
        "    elif total_sales > 5000:\n",
        "        category = 1\n",
        "    else:\n",
        "        category = 2\n",
        "    categories_selected[category].append(name)\n",
        "print(categories_selected)"
      ],
      "metadata": {
        "colab": {
          "base_uri": "https://localhost:8080/"
        },
        "id": "g7GA3TlZgpQp",
        "outputId": "c03c2a6d-186d-4b6f-a7b8-c871f37785ee"
      },
      "execution_count": 119,
      "outputs": [
        {
          "output_type": "stream",
          "name": "stdout",
          "text": [
            "[['015', '001'], ['003', '080', '155', '156', '048', '002', '010', '004'], ['008', '122', '092', '018', '045', '025', '088', '151', '051', '038', '104', '134', '097', '108', '075', '034', '021', '041', '130', '055', '125', '078', '028', '121', '037', '067', '084', '141', '071', '133', '137', '167', '118', '017', '114', '062', '158', '147', '054', '100', '011', '058', '033', '129', '154', '007', '095', '074', '117', '124', '044', '113', '020', '024', '070', '107', '096', '140', '111', '150', '061', '166', '077', '050', '136', '091', '087', '153', '103', '040', '036', '146', '057', '157', '094', '163', '014', '132', '083', '053', '031', '066', '073', '120', '049', '016', '032', '149', '127', '006', '069', '116', '162', '047', '099', '112', '128', '090', '027', '110', '013', '145', '165', '023', '043', '060', '143', '161', '139', '065', '086', '076', '152', '056', '106', '009', '093', '135', '052', '039', '019', '123', '082', '030', '005', '072', '035', '089', '148', '102', '026', '109', '046', '119', '098', '131', '068', '105', '042', '063', '142', '115', '085', '144', '012', '164', '064', '159', '022', '126', '029', '059', '138', '160', '079', '081', '101']]\n"
          ]
        }
      ]
    },
    {
      "cell_type": "code",
      "source": [
        "categories_selected = [[] for i in range(len(categories))]\n",
        "\n",
        "for name in data.columns: #data.columns = ['015', '001', '003', '080', '155', '156', '048', '002', '.......]\n",
        "    total_hits = data[name].sum()\n",
        "    if total_hits > 100000:\n",
        "        category = 0\n",
        "    elif total_hits > 5000:\n",
        "        category = 1\n",
        "    else:\n",
        "        category = 2\n",
        "    categories_selected[category].append(name)\n",
        "print(categories_selected)\n",
        "\n",
        "\n",
        "for indexx, selected in enumerate(categories_selected):\n",
        "    plt.figure(figsize=(4, 4))\n",
        "    x_pos = np.arange(len(data[selected].columns))\n",
        "    plt.bar(x_pos, data[selected].sum(), align='center')\n",
        "    plt.xticks(x_pos, data[selected].columns)\n",
        "    plt.xlabel('Page', fontsize=18)\n",
        "    plt.ylabel('Hits', fontsize=18)\n",
        "    plt.title(categories[indexx] + 'Total hits per page', fontsize=20) #categories.index give the values \"High\" \"Median\" \"Low\" \"VeryLow\"\n",
        "    plt.show()"
      ],
      "metadata": {
        "colab": {
          "base_uri": "https://localhost:8080/",
          "height": 927
        },
        "id": "v_R0maVThytr",
        "outputId": "a5dc83af-de81-49c6-835a-ae75eb6180cd"
      },
      "execution_count": 120,
      "outputs": [
        {
          "output_type": "stream",
          "name": "stdout",
          "text": [
            "[['015', '001'], ['003', '080', '155', '156', '048', '002', '010', '004'], ['008', '122', '092', '018', '045', '025', '088', '151', '051', '038', '104', '134', '097', '108', '075', '034', '021', '041', '130', '055', '125', '078', '028', '121', '037', '067', '084', '141', '071', '133', '137', '167', '118', '017', '114', '062', '158', '147', '054', '100', '011', '058', '033', '129', '154', '007', '095', '074', '117', '124', '044', '113', '020', '024', '070', '107', '096', '140', '111', '150', '061', '166', '077', '050', '136', '091', '087', '153', '103', '040', '036', '146', '057', '157', '094', '163', '014', '132', '083', '053', '031', '066', '073', '120', '049', '016', '032', '149', '127', '006', '069', '116', '162', '047', '099', '112', '128', '090', '027', '110', '013', '145', '165', '023', '043', '060', '143', '161', '139', '065', '086', '076', '152', '056', '106', '009', '093', '135', '052', '039', '019', '123', '082', '030', '005', '072', '035', '089', '148', '102', '026', '109', '046', '119', '098', '131', '068', '105', '042', '063', '142', '115', '085', '144', '012', '164', '064', '159', '022', '126', '029', '059', '138', '160', '079', '081', '101']]\n"
          ]
        },
        {
          "output_type": "display_data",
          "data": {
            "text/plain": [
              "<Figure size 288x288 with 1 Axes>"
            ],
            "image/png": "[encoded data removed]"
          },
          "metadata": {
            "needs_background": "light"
          }
        },
        {
          "output_type": "display_data",
          "data": {
            "text/plain": [
              "<Figure size 288x288 with 1 Axes>"
            ],
            "image/png": "[encoded data removed]"
          },
          "metadata": {
            "needs_background": "light"
          }
        },
        {
          "output_type": "display_data",
          "data": {
            "text/plain": [
              "<Figure size 288x288 with 1 Axes>"
            ],
            "image/png": "[encoded data removed]"
          },
          "metadata": {
            "needs_background": "light"
          }
        }
      ]
    },
    {
      "cell_type": "code",
      "source": [],
      "metadata": {
        "id": "LHZoO6nniJbH"
      },
      "execution_count": 120,
      "outputs": []
    }
  ]
}