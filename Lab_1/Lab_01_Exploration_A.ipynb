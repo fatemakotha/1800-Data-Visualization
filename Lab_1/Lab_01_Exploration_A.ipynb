{
  "nbformat": 4,
  "nbformat_minor": 0,
  "metadata": {
    "colab": {
      "provenance": [],
      "authorship_tag": "ABX9TyPmcgS0+bRW/ymuoe07TxPR",
      "include_colab_link": true
    },
    "kernelspec": {
      "name": "python3",
      "display_name": "Python 3"
    },
    "language_info": {
      "name": "python"
    }
  },
  "cells": [
    {
      "cell_type": "markdown",
      "metadata": {
        "id": "view-in-github",
        "colab_type": "text"
      },
      "source": [
        "<a href=\"https://colab.research.google.com/github/fatemakotha/1800-Data-Visualization/blob/main/Lab_1/Lab_01_Exploration_A.ipynb\" target=\"_parent\"><img src=\"https://colab.research.google.com/assets/colab-badge.svg\" alt=\"Open In Colab\"/></a>"
      ]
    },
    {
      "cell_type": "code",
      "execution_count": null,
      "metadata": {
        "id": "emHInUdZyJ4Q"
      },
      "outputs": [],
      "source": [
        "import pandas as pd\n",
        "import matplotlib.pyplot as plt\n",
        "data = pd.read_csv(\"DailyHits.csv\")\n",
        "####---Set index_col=0 or the page won't load !!!!---####\n",
        "# data = pd.read_csv(\"https://drive.google.com/file/d/1cIDWo4ytvtrBUz5C68Mx37xx7i9zlBjX/view?usp=sharing\", index_col=0)"
      ]
    },
    {
      "cell_type": "code",
      "source": [
        "print(data.index)"
      ],
      "metadata": {
        "colab": {
          "base_uri": "https://localhost:8080/"
        },
        "id": "Mf6IUJJIKQUT",
        "outputId": "f11d6408-923e-4114-8d12-6319cd8ad76e"
      },
      "execution_count": null,
      "outputs": [
        {
          "output_type": "stream",
          "name": "stdout",
          "text": [
            "RangeIndex(start=0, stop=365, step=1)\n"
          ]
        }
      ]
    },
    {
      "cell_type": "code",
      "source": [
        "type(print(data.index))"
      ],
      "metadata": {
        "colab": {
          "base_uri": "https://localhost:8080/"
        },
        "id": "aQesa_CcKrke",
        "outputId": "7a819d07-2c01-4a6a-b92a-28a8763b1083"
      },
      "execution_count": null,
      "outputs": [
        {
          "output_type": "stream",
          "name": "stdout",
          "text": [
            "RangeIndex(start=0, stop=365, step=1)\n"
          ]
        },
        {
          "output_type": "execute_result",
          "data": {
            "text/plain": [
              "NoneType"
            ]
          },
          "metadata": {},
          "execution_count": 4
        }
      ]
    },
    {
      "cell_type": "code",
      "source": [
        "data.index = pd.to_datetime(data.index)"
      ],
      "metadata": {
        "id": "j_Y1ovjQyhxl"
      },
      "execution_count": null,
      "outputs": []
    },
    {
      "cell_type": "code",
      "source": [
        "type(data.index)"
      ],
      "metadata": {
        "colab": {
          "base_uri": "https://localhost:8080/"
        },
        "id": "99VnK0hTKwzE",
        "outputId": "d87efa00-0e51-45cc-a264-25ba66ee7a64"
      },
      "execution_count": null,
      "outputs": [
        {
          "output_type": "execute_result",
          "data": {
            "text/plain": [
              "pandas.core.indexes.datetimes.DatetimeIndex"
            ]
          },
          "metadata": {},
          "execution_count": 6
        }
      ]
    },
    {
      "cell_type": "code",
      "source": [
        "print(data)\n",
        "print(data.head())\n",
        "print(data.describe())\n",
        "print(data.sum())"
      ],
      "metadata": {
        "colab": {
          "base_uri": "https://localhost:8080/"
        },
        "id": "iucfXyWqK-xj",
        "outputId": "cd5aef5f-7225-41ae-8281-3060d151e217"
      },
      "execution_count": null,
      "outputs": [
        {
          "output_type": "stream",
          "name": "stdout",
          "text": [
            "                                     Date   001  002  003  004  005  006  007  \\\n",
            "1970-01-01 00:00:00.000000000  2019-01-01  1062   33   67   42    0    4    0   \n",
            "1970-01-01 00:00:00.000000001  2019-01-02   976   41   72   19    2    0    0   \n",
            "1970-01-01 00:00:00.000000002  2019-01-03   956   27   71   28    4    6   11   \n",
            "1970-01-01 00:00:00.000000003  2019-01-04   976   30   57   29    0    0    3   \n",
            "1970-01-01 00:00:00.000000004  2019-01-05   956   45   65   27    4    1    0   \n",
            "...                                   ...   ...  ...  ...  ...  ...  ...  ...   \n",
            "1970-01-01 00:00:00.000000360  2019-12-27  1065   46   76   24    0    0    0   \n",
            "1970-01-01 00:00:00.000000361  2019-12-28  1135   55   87   41    1    0    0   \n",
            "1970-01-01 00:00:00.000000362  2019-12-29  1125   64   92   24    0    2    0   \n",
            "1970-01-01 00:00:00.000000363  2019-12-30  1113   59   68   48    9    7    7   \n",
            "1970-01-01 00:00:00.000000364  2019-12-31  1073   66   86   23    0    0    0   \n",
            "\n",
            "                               008  009  ...  158  159  160  161  162  163  \\\n",
            "1970-01-01 00:00:00.000000000    0    1  ...    0    0    4    0   10    2   \n",
            "1970-01-01 00:00:00.000000001   14    1  ...    5    0    0    7    0    0   \n",
            "1970-01-01 00:00:00.000000002    0    0  ...    0    0    0    0    6    0   \n",
            "1970-01-01 00:00:00.000000003    0    2  ...    0    2    0    0    0    0   \n",
            "1970-01-01 00:00:00.000000004    0    0  ...   12    0    0    4    0    0   \n",
            "...                            ...  ...  ...  ...  ...  ...  ...  ...  ...   \n",
            "1970-01-01 00:00:00.000000360    2    0  ...    4    1    0    0    0    0   \n",
            "1970-01-01 00:00:00.000000361    0    0  ...    0    0    0    3    0    4   \n",
            "1970-01-01 00:00:00.000000362    0    3  ...    0    2    0    0    3    0   \n",
            "1970-01-01 00:00:00.000000363    5    0  ...    5    1    5    1    0   15   \n",
            "1970-01-01 00:00:00.000000364    6    0  ...   13    3    2    0    0    0   \n",
            "\n",
            "                               164  165  166  167  \n",
            "1970-01-01 00:00:00.000000000    2    2    0    0  \n",
            "1970-01-01 00:00:00.000000001    0    0    1    3  \n",
            "1970-01-01 00:00:00.000000002    0    3    0    0  \n",
            "1970-01-01 00:00:00.000000003    0    0    0    7  \n",
            "1970-01-01 00:00:00.000000004    0    0    5    2  \n",
            "...                            ...  ...  ...  ...  \n",
            "1970-01-01 00:00:00.000000360    0    2    0    0  \n",
            "1970-01-01 00:00:00.000000361    1    1    5    4  \n",
            "1970-01-01 00:00:00.000000362    0    0    0    1  \n",
            "1970-01-01 00:00:00.000000363    5    0    3    3  \n",
            "1970-01-01 00:00:00.000000364    3    0    0    0  \n",
            "\n",
            "[365 rows x 168 columns]\n",
            "                                     Date   001  002  003  004  005  006  007  \\\n",
            "1970-01-01 00:00:00.000000000  2019-01-01  1062   33   67   42    0    4    0   \n",
            "1970-01-01 00:00:00.000000001  2019-01-02   976   41   72   19    2    0    0   \n",
            "1970-01-01 00:00:00.000000002  2019-01-03   956   27   71   28    4    6   11   \n",
            "1970-01-01 00:00:00.000000003  2019-01-04   976   30   57   29    0    0    3   \n",
            "1970-01-01 00:00:00.000000004  2019-01-05   956   45   65   27    4    1    0   \n",
            "\n",
            "                               008  009  ...  158  159  160  161  162  163  \\\n",
            "1970-01-01 00:00:00.000000000    0    1  ...    0    0    4    0   10    2   \n",
            "1970-01-01 00:00:00.000000001   14    1  ...    5    0    0    7    0    0   \n",
            "1970-01-01 00:00:00.000000002    0    0  ...    0    0    0    0    6    0   \n",
            "1970-01-01 00:00:00.000000003    0    2  ...    0    2    0    0    0    0   \n",
            "1970-01-01 00:00:00.000000004    0    0  ...   12    0    0    4    0    0   \n",
            "\n",
            "                               164  165  166  167  \n",
            "1970-01-01 00:00:00.000000000    2    2    0    0  \n",
            "1970-01-01 00:00:00.000000001    0    0    1    3  \n",
            "1970-01-01 00:00:00.000000002    0    3    0    0  \n",
            "1970-01-01 00:00:00.000000003    0    0    0    7  \n",
            "1970-01-01 00:00:00.000000004    0    0    5    2  \n",
            "\n",
            "[5 rows x 168 columns]\n",
            "               001         002         003         004         005  \\\n",
            "count   365.000000  365.000000  365.000000  365.000000  365.000000   \n",
            "mean   1040.224658   47.673973   74.654795   31.967123    1.460274   \n",
            "std      47.301627   11.961959    9.926447    9.666074    2.001836   \n",
            "min     906.000000   14.000000   47.000000    1.000000    0.000000   \n",
            "25%    1009.000000   39.000000   67.000000   26.000000    0.000000   \n",
            "50%    1040.000000   48.000000   75.000000   32.000000    0.000000   \n",
            "75%    1075.000000   56.000000   81.000000   38.000000    3.000000   \n",
            "max    1159.000000   82.000000  115.000000   56.000000   10.000000   \n",
            "\n",
            "              006         007         008         009         010  ...  \\\n",
            "count  365.000000  365.000000  365.000000  365.000000  365.000000  ...   \n",
            "mean     2.136986    3.002740    4.073973    1.575342   46.701370  ...   \n",
            "std      2.880949    4.378706    5.948728    2.231873   11.371891  ...   \n",
            "min      0.000000    0.000000    0.000000    0.000000   16.000000  ...   \n",
            "25%      0.000000    0.000000    0.000000    0.000000   39.000000  ...   \n",
            "50%      1.000000    0.000000    0.000000    0.000000   47.000000  ...   \n",
            "75%      4.000000    5.000000    7.000000    3.000000   54.000000  ...   \n",
            "max     16.000000   20.000000   29.000000   10.000000   74.000000  ...   \n",
            "\n",
            "              158         159         160         161         162         163  \\\n",
            "count  365.000000  365.000000  365.000000  365.000000  365.000000  365.000000   \n",
            "mean     3.219178    0.945205    0.827397    1.775342    2.087671    2.389041   \n",
            "std      4.643460    1.353571    1.240487    2.598382    3.306335    3.808159   \n",
            "min      0.000000    0.000000    0.000000    0.000000    0.000000    0.000000   \n",
            "25%      0.000000    0.000000    0.000000    0.000000    0.000000    0.000000   \n",
            "50%      0.000000    0.000000    0.000000    0.000000    0.000000    0.000000   \n",
            "75%      5.000000    2.000000    1.000000    3.000000    3.000000    4.000000   \n",
            "max     22.000000    6.000000    5.000000   14.000000   19.000000   18.000000   \n",
            "\n",
            "              164         165         166         167  \n",
            "count  365.000000  365.000000  365.000000  365.000000  \n",
            "mean     0.986301    1.876712    2.646575    3.276712  \n",
            "std      1.432484    2.755340    3.806230    4.782366  \n",
            "min      0.000000    0.000000    0.000000    0.000000  \n",
            "25%      0.000000    0.000000    0.000000    0.000000  \n",
            "50%      0.000000    0.000000    0.000000    0.000000  \n",
            "75%      2.000000    3.000000    5.000000    6.000000  \n",
            "max      7.000000   14.000000   19.000000   25.000000  \n",
            "\n",
            "[8 rows x 167 columns]\n",
            "Date    2019-01-012019-01-022019-01-032019-01-042019-0...\n",
            "001                                                379682\n",
            "002                                                 17401\n",
            "003                                                 27249\n",
            "004                                                 11668\n",
            "                              ...                        \n",
            "163                                                   872\n",
            "164                                                   360\n",
            "165                                                   685\n",
            "166                                                   966\n",
            "167                                                  1196\n",
            "Length: 168, dtype: object\n"
          ]
        }
      ]
    },
    {
      "cell_type": "markdown",
      "source": [
        "**1)Read in the data from the file Pages/DailyHits.csv (https://tinyurl.com/ChrisCoDV/Pages/DailyHits.csv)  and do some basic statistical analysis using the .head(), .tail() and .describe() functions. Then write a quick summary in markdown (e.g. what is the time period under investigation, how many pages are there). Also describe the range of values for page 001 – what is the min, max and average number of hits each day.\n",
        "**\n",
        "**ANSWER**\n",
        "\n",
        "There are 167 pages as there are 167 columns.\n",
        "\n",
        "The time range is 12months/1year(2019).\n",
        "\n",
        "For page number 001 mean = 1040, max = 1159, min = 906"
      ],
      "metadata": {
        "id": "7o5_moB4LRtG"
      }
    },
    {
      "cell_type": "markdown",
      "source": [
        "**2) Now sort the columns according to the average number of hits per day, largest first. Which two pages have the highest average. [Hint: use .mean() to get the average.]**"
      ],
      "metadata": {
        "id": "XukxcQlVSI5Y"
      }
    },
    {
      "cell_type": "code",
      "source": [
        "# sort the data according to the maximum value of each row, smallest first\n",
        "data = data.reindex(data.max(axis=1).sort_values().index)\n",
        "print(data.max(axis=1))\n",
        "print(data.head())"
      ],
      "metadata": {
        "id": "jO5W8bSSLJ-u",
        "colab": {
          "base_uri": "https://localhost:8080/"
        },
        "outputId": "291ecf3a-e0af-47a6-f174-f1bb2f2c22ab"
      },
      "execution_count": null,
      "outputs": [
        {
          "output_type": "stream",
          "name": "stdout",
          "text": [
            "1970-01-01 00:00:00.000000040    1009\n",
            "1970-01-01 00:00:00.000000002    1047\n",
            "1970-01-01 00:00:00.000000175    1066\n",
            "1970-01-01 00:00:00.000000098    1080\n",
            "1970-01-01 00:00:00.000000104    1081\n",
            "                                 ... \n",
            "1970-01-01 00:00:00.000000300    1494\n",
            "1970-01-01 00:00:00.000000260    1500\n",
            "1970-01-01 00:00:00.000000319    1503\n",
            "1970-01-01 00:00:00.000000328    1513\n",
            "1970-01-01 00:00:00.000000267    1547\n",
            "Length: 365, dtype: int64\n",
            "                                     Date   001  002  003  004  005  006  007  \\\n",
            "1970-01-01 00:00:00.000000040  2019-02-10  1009   42   81   27    4    5    0   \n",
            "1970-01-01 00:00:00.000000002  2019-01-03   956   27   71   28    4    6   11   \n",
            "1970-01-01 00:00:00.000000175  2019-06-25  1052   40   89   53    6    0    0   \n",
            "1970-01-01 00:00:00.000000098  2019-04-09  1036   42   88   13    0    0    0   \n",
            "1970-01-01 00:00:00.000000104  2019-04-15   991   41   59   33    4    0   12   \n",
            "\n",
            "                               008  009  ...  158  159  160  161  162  163  \\\n",
            "1970-01-01 00:00:00.000000040    3    0  ...   11    1    0    0    4    0   \n",
            "1970-01-01 00:00:00.000000002    0    0  ...    0    0    0    0    6    0   \n",
            "1970-01-01 00:00:00.000000175    0    1  ...    0    0    0    0    1    0   \n",
            "1970-01-01 00:00:00.000000098    0    1  ...    6    3    0   11    0    0   \n",
            "1970-01-01 00:00:00.000000104    0    1  ...   10    0    0    0    1    2   \n",
            "\n",
            "                               164  165  166  167  \n",
            "1970-01-01 00:00:00.000000040    0    2    0    6  \n",
            "1970-01-01 00:00:00.000000002    0    3    0    0  \n",
            "1970-01-01 00:00:00.000000175    2    0    7    0  \n",
            "1970-01-01 00:00:00.000000098    3    3    0    0  \n",
            "1970-01-01 00:00:00.000000104    0    3    0    0  \n",
            "\n",
            "[5 rows x 168 columns]\n"
          ]
        },
        {
          "output_type": "stream",
          "name": "stderr",
          "text": [
            "<ipython-input-8-4bbe33ff169b>:2: FutureWarning: Dropping of nuisance columns in DataFrame reductions (with 'numeric_only=None') is deprecated; in a future version this will raise TypeError.  Select only valid columns before calling the reduction.\n",
            "  data = data.reindex(data.max(axis=1).sort_values().index)\n",
            "<ipython-input-8-4bbe33ff169b>:3: FutureWarning: Dropping of nuisance columns in DataFrame reductions (with 'numeric_only=None') is deprecated; in a future version this will raise TypeError.  Select only valid columns before calling the reduction.\n",
            "  print(data.max(axis=1))\n"
          ]
        }
      ]
    },
    {
      "cell_type": "code",
      "source": [
        "data.sort_values"
      ],
      "metadata": {
        "id": "9t0YMeQ-MKUg",
        "colab": {
          "base_uri": "https://localhost:8080/"
        },
        "outputId": "07f69464-f0ca-4f1d-9a76-2170bcf62637"
      },
      "execution_count": null,
      "outputs": [
        {
          "output_type": "execute_result",
          "data": {
            "text/plain": [
              "<bound method DataFrame.sort_values of                                      Date   001  002  003  004  005  006  007  \\\n",
              "1970-01-01 00:00:00.000000040  2019-02-10  1009   42   81   27    4    5    0   \n",
              "1970-01-01 00:00:00.000000002  2019-01-03   956   27   71   28    4    6   11   \n",
              "1970-01-01 00:00:00.000000175  2019-06-25  1052   40   89   53    6    0    0   \n",
              "1970-01-01 00:00:00.000000098  2019-04-09  1036   42   88   13    0    0    0   \n",
              "1970-01-01 00:00:00.000000104  2019-04-15   991   41   59   33    4    0   12   \n",
              "...                                   ...   ...  ...  ...  ...  ...  ...  ...   \n",
              "1970-01-01 00:00:00.000000300  2019-10-28  1036   42   91   18    1    0    1   \n",
              "1970-01-01 00:00:00.000000260  2019-09-18  1077   45   67   33    2    0    1   \n",
              "1970-01-01 00:00:00.000000319  2019-11-16  1082   61   79   31    2    3   11   \n",
              "1970-01-01 00:00:00.000000328  2019-11-25  1039   49   67   37    0    6    7   \n",
              "1970-01-01 00:00:00.000000267  2019-09-25  1061   52   58   42    2    0    8   \n",
              "\n",
              "                               008  009  ...  158  159  160  161  162  163  \\\n",
              "1970-01-01 00:00:00.000000040    3    0  ...   11    1    0    0    4    0   \n",
              "1970-01-01 00:00:00.000000002    0    0  ...    0    0    0    0    6    0   \n",
              "1970-01-01 00:00:00.000000175    0    1  ...    0    0    0    0    1    0   \n",
              "1970-01-01 00:00:00.000000098    0    1  ...    6    3    0   11    0    0   \n",
              "1970-01-01 00:00:00.000000104    0    1  ...   10    0    0    0    1    2   \n",
              "...                            ...  ...  ...  ...  ...  ...  ...  ...  ...   \n",
              "1970-01-01 00:00:00.000000300    7    5  ...    2    0    0    0    0    3   \n",
              "1970-01-01 00:00:00.000000260    0    0  ...    0    1    2    0    0    8   \n",
              "1970-01-01 00:00:00.000000319    0    0  ...    0    2    3    1    5    5   \n",
              "1970-01-01 00:00:00.000000328    0    0  ...    1    0    0    0    0    0   \n",
              "1970-01-01 00:00:00.000000267    0    0  ...   14    0    0    5    0    0   \n",
              "\n",
              "                               164  165  166  167  \n",
              "1970-01-01 00:00:00.000000040    0    2    0    6  \n",
              "1970-01-01 00:00:00.000000002    0    3    0    0  \n",
              "1970-01-01 00:00:00.000000175    2    0    7    0  \n",
              "1970-01-01 00:00:00.000000098    3    3    0    0  \n",
              "1970-01-01 00:00:00.000000104    0    3    0    0  \n",
              "...                            ...  ...  ...  ...  \n",
              "1970-01-01 00:00:00.000000300    3    8    9    0  \n",
              "1970-01-01 00:00:00.000000260    2    4    6   10  \n",
              "1970-01-01 00:00:00.000000319    0    1    3    6  \n",
              "1970-01-01 00:00:00.000000328    1    0    2    0  \n",
              "1970-01-01 00:00:00.000000267    0    0    3    8  \n",
              "\n",
              "[365 rows x 168 columns]>"
            ]
          },
          "metadata": {},
          "execution_count": 9
        }
      ]
    },
    {
      "cell_type": "code",
      "source": [
        "# sort the data according to the sum of each column, largest first\n",
        "data = data.reindex(data.sum(axis=1).sort_values(ascending=False).index)\n",
        "print(data.sum())\n",
        "print(data.head())"
      ],
      "metadata": {
        "colab": {
          "base_uri": "https://localhost:8080/"
        },
        "id": "KmA7XHJMVJ8P",
        "outputId": "aa035e02-bc19-4e96-d78c-52226ca7bec6"
      },
      "execution_count": null,
      "outputs": [
        {
          "output_type": "stream",
          "name": "stdout",
          "text": [
            "Date       2019-12-192019-12-032019-11-162019-12-082019-1...\n",
            "001                                                   379682\n",
            "002                                                    17401\n",
            "003                                                    27249\n",
            "004                                                    11668\n",
            "                                 ...                        \n",
            "164                                                      360\n",
            "165                                                      685\n",
            "166                                                      966\n",
            "167                                                     1196\n",
            "Average                                          6834.107784\n",
            "Length: 169, dtype: object\n",
            "                                     Date   001  002  003  004  005  006  007  \\\n",
            "1970-01-01 00:00:00.000000352  2019-12-19  1110   73   76   27    2    3    4   \n",
            "1970-01-01 00:00:00.000000336  2019-12-03  1120   52   86   52    0    0    1   \n",
            "1970-01-01 00:00:00.000000319  2019-11-16  1082   61   79   31    2    3   11   \n",
            "1970-01-01 00:00:00.000000341  2019-12-08  1091   41   95   48    0    2    1   \n",
            "1970-01-01 00:00:00.000000343  2019-12-10  1090   55   90   22    0    3    1   \n",
            "\n",
            "                               008  009  ...  159  160  161  162  163  164  \\\n",
            "1970-01-01 00:00:00.000000352   17    2  ...    1    0    3    1    0    0   \n",
            "1970-01-01 00:00:00.000000336    0    4  ...    0    0    0    0    0    0   \n",
            "1970-01-01 00:00:00.000000319    0    0  ...    2    3    1    5    5    0   \n",
            "1970-01-01 00:00:00.000000341    0    4  ...    0    5    0    0    1    0   \n",
            "1970-01-01 00:00:00.000000343    0    0  ...    0    2    3    0    0    1   \n",
            "\n",
            "                               165  166  167    Average  \n",
            "1970-01-01 00:00:00.000000352    2   17    0  20.958084  \n",
            "1970-01-01 00:00:00.000000336    0    0    0  20.904192  \n",
            "1970-01-01 00:00:00.000000319    1    3    6  20.670659  \n",
            "1970-01-01 00:00:00.000000341    0    0    0  20.664671  \n",
            "1970-01-01 00:00:00.000000343    2    0    0  20.664671  \n",
            "\n",
            "[5 rows x 169 columns]\n"
          ]
        },
        {
          "output_type": "stream",
          "name": "stderr",
          "text": [
            "<ipython-input-19-6b2a40a38fb2>:2: FutureWarning: Dropping of nuisance columns in DataFrame reductions (with 'numeric_only=None') is deprecated; in a future version this will raise TypeError.  Select only valid columns before calling the reduction.\n",
            "  data = data.reindex(data.sum(axis=1).sort_values(ascending=False).index)\n"
          ]
        }
      ]
    },
    {
      "cell_type": "code",
      "source": [
        "# sort the data according to the AVERAGE of each column, largest first\n",
        "data = data.reindex(data.mean(axis=1).sort_values(ascending=False).index)\n",
        "print(data.sum())\n",
        "print(data.head())"
      ],
      "metadata": {
        "colab": {
          "base_uri": "https://localhost:8080/"
        },
        "id": "IFkW7uAVYXvZ",
        "outputId": "7713aede-a106-42af-c9ef-4598a9227334"
      },
      "execution_count": null,
      "outputs": [
        {
          "output_type": "stream",
          "name": "stdout",
          "text": [
            "Date       2019-12-192019-12-032019-11-162019-12-082019-1...\n",
            "001                                                   379682\n",
            "002                                                    17401\n",
            "003                                                    27249\n",
            "004                                                    11668\n",
            "                                 ...                        \n",
            "164                                                      360\n",
            "165                                                      685\n",
            "166                                                      966\n",
            "167                                                     1196\n",
            "Average                                          6834.107784\n",
            "Length: 169, dtype: object\n",
            "                                     Date   001  002  003  004  005  006  007  \\\n",
            "1970-01-01 00:00:00.000000352  2019-12-19  1110   73   76   27    2    3    4   \n",
            "1970-01-01 00:00:00.000000336  2019-12-03  1120   52   86   52    0    0    1   \n",
            "1970-01-01 00:00:00.000000319  2019-11-16  1082   61   79   31    2    3   11   \n",
            "1970-01-01 00:00:00.000000341  2019-12-08  1091   41   95   48    0    2    1   \n",
            "1970-01-01 00:00:00.000000343  2019-12-10  1090   55   90   22    0    3    1   \n",
            "\n",
            "                               008  009  ...  159  160  161  162  163  164  \\\n",
            "1970-01-01 00:00:00.000000352   17    2  ...    1    0    3    1    0    0   \n",
            "1970-01-01 00:00:00.000000336    0    4  ...    0    0    0    0    0    0   \n",
            "1970-01-01 00:00:00.000000319    0    0  ...    2    3    1    5    5    0   \n",
            "1970-01-01 00:00:00.000000341    0    4  ...    0    5    0    0    1    0   \n",
            "1970-01-01 00:00:00.000000343    0    0  ...    0    2    3    0    0    1   \n",
            "\n",
            "                               165  166  167    Average  \n",
            "1970-01-01 00:00:00.000000352    2   17    0  20.958084  \n",
            "1970-01-01 00:00:00.000000336    0    0    0  20.904192  \n",
            "1970-01-01 00:00:00.000000319    1    3    6  20.670659  \n",
            "1970-01-01 00:00:00.000000341    0    0    0  20.664671  \n",
            "1970-01-01 00:00:00.000000343    2    0    0  20.664671  \n",
            "\n",
            "[5 rows x 169 columns]\n"
          ]
        },
        {
          "output_type": "stream",
          "name": "stderr",
          "text": [
            "<ipython-input-21-35b50c0b8955>:2: FutureWarning: Dropping of nuisance columns in DataFrame reductions (with 'numeric_only=None') is deprecated; in a future version this will raise TypeError.  Select only valid columns before calling the reduction.\n",
            "  data = data.reindex(data.mean(axis=1).sort_values(ascending=False).index)\n"
          ]
        }
      ]
    },
    {
      "cell_type": "markdown",
      "source": [
        "Ans: \n",
        "\n",
        "Pages 015 & 001 have the highest average, 1279 and 1040 respectively"
      ],
      "metadata": {
        "id": "6CCz1NCzVDFw"
      }
    },
    {
      "cell_type": "markdown",
      "source": [
        "**3) Filter the data for these two pages by name and create a line plot showing the page hits per day. Almost every day one of the pages has more hits than the other … except for one day. Which month did that happen?**"
      ],
      "metadata": {
        "id": "iuYkTFvhWXOc"
      }
    },
    {
      "cell_type": "code",
      "source": [
        "selected = [\"001\", \"015\"] #Decided which column we want to look into\n",
        "#in our case its page 001 and 015\n",
        "print(data[selected].head())\n",
        "print(data.head())\n",
        "#Now plot\n",
        "data[selected].plot.line()\n",
        "plt.show()\n",
        "\n",
        "\n"
      ],
      "metadata": {
        "colab": {
          "base_uri": "https://localhost:8080/",
          "height": 780
        },
        "id": "YIUGHViJTNRJ",
        "outputId": "4e2839d8-0265-49f1-fa61-a39fec2f955b"
      },
      "execution_count": null,
      "outputs": [
        {
          "output_type": "stream",
          "name": "stdout",
          "text": [
            "                                001   015\n",
            "1970-01-01 00:00:00.000000352  1110  1420\n",
            "1970-01-01 00:00:00.000000336  1120  1425\n",
            "1970-01-01 00:00:00.000000319  1082  1503\n",
            "1970-01-01 00:00:00.000000341  1091  1484\n",
            "1970-01-01 00:00:00.000000343  1090  1441\n",
            "                                     Date   001  002  003  004  005  006  007  \\\n",
            "1970-01-01 00:00:00.000000352  2019-12-19  1110   73   76   27    2    3    4   \n",
            "1970-01-01 00:00:00.000000336  2019-12-03  1120   52   86   52    0    0    1   \n",
            "1970-01-01 00:00:00.000000319  2019-11-16  1082   61   79   31    2    3   11   \n",
            "1970-01-01 00:00:00.000000341  2019-12-08  1091   41   95   48    0    2    1   \n",
            "1970-01-01 00:00:00.000000343  2019-12-10  1090   55   90   22    0    3    1   \n",
            "\n",
            "                               008  009  ...  159  160  161  162  163  164  \\\n",
            "1970-01-01 00:00:00.000000352   17    2  ...    1    0    3    1    0    0   \n",
            "1970-01-01 00:00:00.000000336    0    4  ...    0    0    0    0    0    0   \n",
            "1970-01-01 00:00:00.000000319    0    0  ...    2    3    1    5    5    0   \n",
            "1970-01-01 00:00:00.000000341    0    4  ...    0    5    0    0    1    0   \n",
            "1970-01-01 00:00:00.000000343    0    0  ...    0    2    3    0    0    1   \n",
            "\n",
            "                               165  166  167    Average  \n",
            "1970-01-01 00:00:00.000000352    2   17    0  20.958084  \n",
            "1970-01-01 00:00:00.000000336    0    0    0  20.904192  \n",
            "1970-01-01 00:00:00.000000319    1    3    6  20.670659  \n",
            "1970-01-01 00:00:00.000000341    0    0    0  20.664671  \n",
            "1970-01-01 00:00:00.000000343    2    0    0  20.664671  \n",
            "\n",
            "[5 rows x 169 columns]\n"
          ]
        },
        {
          "output_type": "display_data",
          "data": {
            "text/plain": [
              "<Figure size 432x288 with 1 Axes>"
            ],
            "image/png": "[encoded data removed]"
          },
          "metadata": {
            "needs_background": "light"
          }
        }
      ]
    },
    {
      "cell_type": "markdown",
      "source": [
        "**ANWSER**: In Feb, 015 page hits dropped below 001/"
      ],
      "metadata": {
        "id": "LsklUVnTXl1b"
      }
    },
    {
      "cell_type": "markdown",
      "source": [
        "**4) Next add a column which shows the average page hits for the entire site and then select the columns containing two most popular pages and the site average. Use the resulting dataframe to draw a line plot. [Hint: this is slightly different to the lecture example – you need to calculate the average before you select the columns.]**"
      ],
      "metadata": {
        "id": "5xf0jMpXYPo7"
      }
    },
    {
      "cell_type": "code",
      "source": [
        "#Add a column which shows the average page hits for the entire site\n",
        "data[\"Average\"] = data.mean(axis=1)"
      ],
      "metadata": {
        "colab": {
          "base_uri": "https://localhost:8080/"
        },
        "id": "AuEVYp7DWxCq",
        "outputId": "c18528b9-ca86-4a85-bef7-88ae1c0d4805"
      },
      "execution_count": null,
      "outputs": [
        {
          "output_type": "stream",
          "name": "stderr",
          "text": [
            "<ipython-input-13-1100be9eaff9>:2: FutureWarning: Dropping of nuisance columns in DataFrame reductions (with 'numeric_only=None') is deprecated; in a future version this will raise TypeError.  Select only valid columns before calling the reduction.\n",
            "  data[\"Average\"] = data.mean(axis=1)\n"
          ]
        }
      ]
    },
    {
      "cell_type": "code",
      "source": [
        "data.head()#You can now see that an average column has been added at the end\n"
      ],
      "metadata": {
        "colab": {
          "base_uri": "https://localhost:8080/",
          "height": 386
        },
        "id": "SaxLIeLvZTrw",
        "outputId": "89c9d5de-9168-45e1-c681-9a539f157515"
      },
      "execution_count": null,
      "outputs": [
        {
          "output_type": "execute_result",
          "data": {
            "text/plain": [
              "                                     Date   001  002  003  004  005  006  007  \\\n",
              "1970-01-01 00:00:00.000000352  2019-12-19  1110   73   76   27    2    3    4   \n",
              "1970-01-01 00:00:00.000000336  2019-12-03  1120   52   86   52    0    0    1   \n",
              "1970-01-01 00:00:00.000000319  2019-11-16  1082   61   79   31    2    3   11   \n",
              "1970-01-01 00:00:00.000000341  2019-12-08  1091   41   95   48    0    2    1   \n",
              "1970-01-01 00:00:00.000000343  2019-12-10  1090   55   90   22    0    3    1   \n",
              "\n",
              "                               008  009  ...  159  160  161  162  163  164  \\\n",
              "1970-01-01 00:00:00.000000352   17    2  ...    1    0    3    1    0    0   \n",
              "1970-01-01 00:00:00.000000336    0    4  ...    0    0    0    0    0    0   \n",
              "1970-01-01 00:00:00.000000319    0    0  ...    2    3    1    5    5    0   \n",
              "1970-01-01 00:00:00.000000341    0    4  ...    0    5    0    0    1    0   \n",
              "1970-01-01 00:00:00.000000343    0    0  ...    0    2    3    0    0    1   \n",
              "\n",
              "                               165  166  167    Average  \n",
              "1970-01-01 00:00:00.000000352    2   17    0  20.958084  \n",
              "1970-01-01 00:00:00.000000336    0    0    0  20.904192  \n",
              "1970-01-01 00:00:00.000000319    1    3    6  20.670659  \n",
              "1970-01-01 00:00:00.000000341    0    0    0  20.664671  \n",
              "1970-01-01 00:00:00.000000343    2    0    0  20.664671  \n",
              "\n",
              "[5 rows x 169 columns]"
            ],
            "text/html": [
              "\n",
              "  <div id=\"df-13a4923c-4a3f-4cf0-b078-059e7cde8329\">\n",
              "    <div class=\"colab-df-container\">\n",
              "      <div>\n",
              "<style scoped>\n",
              "    .dataframe tbody tr th:only-of-type {\n",
              "        vertical-align: middle;\n",
              "    }\n",
              "\n",
              "    .dataframe tbody tr th {\n",
              "        vertical-align: top;\n",
              "    }\n",
              "\n",
              "    .dataframe thead th {\n",
              "        text-align: right;\n",
              "    }\n",
              "</style>\n",
              "<table border=\"1\" class=\"dataframe\">\n",
              "  <thead>\n",
              "    <tr style=\"text-align: right;\">\n",
              "      <th></th>\n",
              "      <th>Date</th>\n",
              "      <th>001</th>\n",
              "      <th>002</th>\n",
              "      <th>003</th>\n",
              "      <th>004</th>\n",
              "      <th>005</th>\n",
              "      <th>006</th>\n",
              "      <th>007</th>\n",
              "      <th>008</th>\n",
              "      <th>009</th>\n",
              "      <th>...</th>\n",
              "      <th>159</th>\n",
              "      <th>160</th>\n",
              "      <th>161</th>\n",
              "      <th>162</th>\n",
              "      <th>163</th>\n",
              "      <th>164</th>\n",
              "      <th>165</th>\n",
              "      <th>166</th>\n",
              "      <th>167</th>\n",
              "      <th>Average</th>\n",
              "    </tr>\n",
              "  </thead>\n",
              "  <tbody>\n",
              "    <tr>\n",
              "      <th>1970-01-01 00:00:00.000000352</th>\n",
              "      <td>2019-12-19</td>\n",
              "      <td>1110</td>\n",
              "      <td>73</td>\n",
              "      <td>76</td>\n",
              "      <td>27</td>\n",
              "      <td>2</td>\n",
              "      <td>3</td>\n",
              "      <td>4</td>\n",
              "      <td>17</td>\n",
              "      <td>2</td>\n",
              "      <td>...</td>\n",
              "      <td>1</td>\n",
              "      <td>0</td>\n",
              "      <td>3</td>\n",
              "      <td>1</td>\n",
              "      <td>0</td>\n",
              "      <td>0</td>\n",
              "      <td>2</td>\n",
              "      <td>17</td>\n",
              "      <td>0</td>\n",
              "      <td>20.958084</td>\n",
              "    </tr>\n",
              "    <tr>\n",
              "      <th>1970-01-01 00:00:00.000000336</th>\n",
              "      <td>2019-12-03</td>\n",
              "      <td>1120</td>\n",
              "      <td>52</td>\n",
              "      <td>86</td>\n",
              "      <td>52</td>\n",
              "      <td>0</td>\n",
              "      <td>0</td>\n",
              "      <td>1</td>\n",
              "      <td>0</td>\n",
              "      <td>4</td>\n",
              "      <td>...</td>\n",
              "      <td>0</td>\n",
              "      <td>0</td>\n",
              "      <td>0</td>\n",
              "      <td>0</td>\n",
              "      <td>0</td>\n",
              "      <td>0</td>\n",
              "      <td>0</td>\n",
              "      <td>0</td>\n",
              "      <td>0</td>\n",
              "      <td>20.904192</td>\n",
              "    </tr>\n",
              "    <tr>\n",
              "      <th>1970-01-01 00:00:00.000000319</th>\n",
              "      <td>2019-11-16</td>\n",
              "      <td>1082</td>\n",
              "      <td>61</td>\n",
              "      <td>79</td>\n",
              "      <td>31</td>\n",
              "      <td>2</td>\n",
              "      <td>3</td>\n",
              "      <td>11</td>\n",
              "      <td>0</td>\n",
              "      <td>0</td>\n",
              "      <td>...</td>\n",
              "      <td>2</td>\n",
              "      <td>3</td>\n",
              "      <td>1</td>\n",
              "      <td>5</td>\n",
              "      <td>5</td>\n",
              "      <td>0</td>\n",
              "      <td>1</td>\n",
              "      <td>3</td>\n",
              "      <td>6</td>\n",
              "      <td>20.670659</td>\n",
              "    </tr>\n",
              "    <tr>\n",
              "      <th>1970-01-01 00:00:00.000000341</th>\n",
              "      <td>2019-12-08</td>\n",
              "      <td>1091</td>\n",
              "      <td>41</td>\n",
              "      <td>95</td>\n",
              "      <td>48</td>\n",
              "      <td>0</td>\n",
              "      <td>2</td>\n",
              "      <td>1</td>\n",
              "      <td>0</td>\n",
              "      <td>4</td>\n",
              "      <td>...</td>\n",
              "      <td>0</td>\n",
              "      <td>5</td>\n",
              "      <td>0</td>\n",
              "      <td>0</td>\n",
              "      <td>1</td>\n",
              "      <td>0</td>\n",
              "      <td>0</td>\n",
              "      <td>0</td>\n",
              "      <td>0</td>\n",
              "      <td>20.664671</td>\n",
              "    </tr>\n",
              "    <tr>\n",
              "      <th>1970-01-01 00:00:00.000000343</th>\n",
              "      <td>2019-12-10</td>\n",
              "      <td>1090</td>\n",
              "      <td>55</td>\n",
              "      <td>90</td>\n",
              "      <td>22</td>\n",
              "      <td>0</td>\n",
              "      <td>3</td>\n",
              "      <td>1</td>\n",
              "      <td>0</td>\n",
              "      <td>0</td>\n",
              "      <td>...</td>\n",
              "      <td>0</td>\n",
              "      <td>2</td>\n",
              "      <td>3</td>\n",
              "      <td>0</td>\n",
              "      <td>0</td>\n",
              "      <td>1</td>\n",
              "      <td>2</td>\n",
              "      <td>0</td>\n",
              "      <td>0</td>\n",
              "      <td>20.664671</td>\n",
              "    </tr>\n",
              "  </tbody>\n",
              "</table>\n",
              "<p>5 rows × 169 columns</p>\n",
              "</div>\n",
              "      <button class=\"colab-df-convert\" onclick=\"convertToInteractive('df-13a4923c-4a3f-4cf0-b078-059e7cde8329')\"\n",
              "              title=\"Convert this dataframe to an interactive table.\"\n",
              "              style=\"display:none;\">\n",
              "        \n",
              "  <svg xmlns=\"http://www.w3.org/2000/svg\" height=\"24px\"viewBox=\"0 0 24 24\"\n",
              "       width=\"24px\">\n",
              "    <path d=\"M0 0h24v24H0V0z\" fill=\"none\"/>\n",
              "    <path d=\"M18.56 5.44l.94 2.06.94-2.06 2.06-.94-2.06-.94-.94-2.06-.94 2.06-2.06.94zm-11 1L8.5 8.5l.94-2.06 2.06-.94-2.06-.94L8.5 2.5l-.94 2.06-2.06.94zm10 10l.94 2.06.94-2.06 2.06-.94-2.06-.94-.94-2.06-.94 2.06-2.06.94z\"/><path d=\"M17.41 7.96l-1.37-1.37c-.4-.4-.92-.59-1.43-.59-.52 0-1.04.2-1.43.59L10.3 9.45l-7.72 7.72c-.78.78-.78 2.05 0 2.83L4 21.41c.39.39.9.59 1.41.59.51 0 1.02-.2 1.41-.59l7.78-7.78 2.81-2.81c.8-.78.8-2.07 0-2.86zM5.41 20L4 18.59l7.72-7.72 1.47 1.35L5.41 20z\"/>\n",
              "  </svg>\n",
              "      </button>\n",
              "      \n",
              "  <style>\n",
              "    .colab-df-container {\n",
              "      display:flex;\n",
              "      flex-wrap:wrap;\n",
              "      gap: 12px;\n",
              "    }\n",
              "\n",
              "    .colab-df-convert {\n",
              "      background-color: #E8F0FE;\n",
              "      border: none;\n",
              "      border-radius: 50%;\n",
              "      cursor: pointer;\n",
              "      display: none;\n",
              "      fill: #1967D2;\n",
              "      height: 32px;\n",
              "      padding: 0 0 0 0;\n",
              "      width: 32px;\n",
              "    }\n",
              "\n",
              "    .colab-df-convert:hover {\n",
              "      background-color: #E2EBFA;\n",
              "      box-shadow: 0px 1px 2px rgba(60, 64, 67, 0.3), 0px 1px 3px 1px rgba(60, 64, 67, 0.15);\n",
              "      fill: #174EA6;\n",
              "    }\n",
              "\n",
              "    [theme=dark] .colab-df-convert {\n",
              "      background-color: #3B4455;\n",
              "      fill: #D2E3FC;\n",
              "    }\n",
              "\n",
              "    [theme=dark] .colab-df-convert:hover {\n",
              "      background-color: #434B5C;\n",
              "      box-shadow: 0px 1px 3px 1px rgba(0, 0, 0, 0.15);\n",
              "      filter: drop-shadow(0px 1px 2px rgba(0, 0, 0, 0.3));\n",
              "      fill: #FFFFFF;\n",
              "    }\n",
              "  </style>\n",
              "\n",
              "      <script>\n",
              "        const buttonEl =\n",
              "          document.querySelector('#df-13a4923c-4a3f-4cf0-b078-059e7cde8329 button.colab-df-convert');\n",
              "        buttonEl.style.display =\n",
              "          google.colab.kernel.accessAllowed ? 'block' : 'none';\n",
              "\n",
              "        async function convertToInteractive(key) {\n",
              "          const element = document.querySelector('#df-13a4923c-4a3f-4cf0-b078-059e7cde8329');\n",
              "          const dataTable =\n",
              "            await google.colab.kernel.invokeFunction('convertToInteractive',\n",
              "                                                     [key], {});\n",
              "          if (!dataTable) return;\n",
              "\n",
              "          const docLinkHtml = 'Like what you see? Visit the ' +\n",
              "            '<a target=\"_blank\" href=https://colab.research.google.com/notebooks/data_table.ipynb>data table notebook</a>'\n",
              "            + ' to learn more about interactive tables.';\n",
              "          element.innerHTML = '';\n",
              "          dataTable['output_type'] = 'display_data';\n",
              "          await google.colab.output.renderOutput(dataTable, element);\n",
              "          const docLink = document.createElement('div');\n",
              "          docLink.innerHTML = docLinkHtml;\n",
              "          element.appendChild(docLink);\n",
              "        }\n",
              "      </script>\n",
              "    </div>\n",
              "  </div>\n",
              "  "
            ]
          },
          "metadata": {},
          "execution_count": 14
        }
      ]
    },
    {
      "cell_type": "code",
      "source": [
        "selected_new = [\"001\",\"015\", \"Average\"]\n",
        "df = data[selected_new]\n",
        "print(df.head())\n",
        "\n",
        "df.plot.line()\n",
        "plt.show()"
      ],
      "metadata": {
        "colab": {
          "base_uri": "https://localhost:8080/",
          "height": 372
        },
        "id": "DeW1FwFTZ2OJ",
        "outputId": "462b39a3-7e69-40f0-ad00-6d991e27127b"
      },
      "execution_count": null,
      "outputs": [
        {
          "output_type": "stream",
          "name": "stdout",
          "text": [
            "                                001   015    Average\n",
            "1970-01-01 00:00:00.000000352  1110  1420  20.958084\n",
            "1970-01-01 00:00:00.000000336  1120  1425  20.904192\n",
            "1970-01-01 00:00:00.000000319  1082  1503  20.670659\n",
            "1970-01-01 00:00:00.000000341  1091  1484  20.664671\n",
            "1970-01-01 00:00:00.000000343  1090  1441  20.664671\n"
          ]
        },
        {
          "output_type": "display_data",
          "data": {
            "text/plain": [
              "<Figure size 432x288 with 1 Axes>"
            ],
            "image/png": "[encoded data removed]"
          },
          "metadata": {
            "needs_background": "light"
          }
        }
      ]
    },
    {
      "cell_type": "markdown",
      "source": [
        "\n",
        "**5) Finally restrict the rows to just show February and create a line plot of the result. If you have done it all correctly the final plot should look something like the one on the right. Notice that the site average is tiny (less than 20 hits per page per day as there are so many pages that get almost no traffic).**\n",
        "\n"
      ],
      "metadata": {
        "id": "mFA8tpMlZPlS"
      }
    },
    {
      "cell_type": "code",
      "source": [
        "data = pd.read_csv(\"DailyHits.csv\")\n",
        "print(data.head())\n",
        "# data = data.loc[pd.to_datetime(\"2019-02-02\"): pd.to.datetime(\"2019-02-28\")]#won't work unless its a datetime object\n",
        "data = data.loc[pd.to.datetime(\"2019-02-01\"): pd.to.datetime(\"2019-02-28\")]\n",
        "data.plot.line()\n",
        "plt.show()"
      ],
      "metadata": {
        "colab": {
          "base_uri": "https://localhost:8080/",
          "height": 721
        },
        "id": "Fm3-y3hBW1sT",
        "outputId": "e80f5fd1-6250-43c4-ce63-0082cec43930"
      },
      "execution_count": null,
      "outputs": [
        {
          "output_type": "stream",
          "name": "stdout",
          "text": [
            "         Date   001  002  003  004  005  006  007  008  009  ...  158  159  \\\n",
            "0  2019-01-01  1062   33   67   42    0    4    0    0    1  ...    0    0   \n",
            "1  2019-01-02   976   41   72   19    2    0    0   14    1  ...    5    0   \n",
            "2  2019-01-03   956   27   71   28    4    6   11    0    0  ...    0    0   \n",
            "3  2019-01-04   976   30   57   29    0    0    3    0    2  ...    0    2   \n",
            "4  2019-01-05   956   45   65   27    4    1    0    0    0  ...   12    0   \n",
            "\n",
            "   160  161  162  163  164  165  166  167  \n",
            "0    4    0   10    2    2    2    0    0  \n",
            "1    0    7    0    0    0    0    1    3  \n",
            "2    0    0    6    0    0    3    0    0  \n",
            "3    0    0    0    0    0    0    0    7  \n",
            "4    0    4    0    0    0    0    5    2  \n",
            "\n",
            "[5 rows x 168 columns]\n"
          ]
        },
        {
          "output_type": "error",
          "ename": "AttributeError",
          "evalue": "ignored",
          "traceback": [
            "\u001b[0;31m---------------------------------------------------------------------------\u001b[0m",
            "\u001b[0;31mAttributeError\u001b[0m                            Traceback (most recent call last)",
            "\u001b[0;32m<ipython-input-30-4885c3dea901>\u001b[0m in \u001b[0;36m<module>\u001b[0;34m\u001b[0m\n\u001b[1;32m      2\u001b[0m \u001b[0mprint\u001b[0m\u001b[0;34m(\u001b[0m\u001b[0mdata\u001b[0m\u001b[0;34m.\u001b[0m\u001b[0mhead\u001b[0m\u001b[0;34m(\u001b[0m\u001b[0;34m)\u001b[0m\u001b[0;34m)\u001b[0m\u001b[0;34m\u001b[0m\u001b[0;34m\u001b[0m\u001b[0m\n\u001b[1;32m      3\u001b[0m \u001b[0;31m# data = data.loc[pd.to_datetime(\"2019-02-02\"): pd.to.datetime(\"2019-02-28\")]#won't work unless its a datetime object\u001b[0m\u001b[0;34m\u001b[0m\u001b[0;34m\u001b[0m\u001b[0;34m\u001b[0m\u001b[0m\n\u001b[0;32m----> 4\u001b[0;31m \u001b[0mdata\u001b[0m \u001b[0;34m=\u001b[0m \u001b[0mdata\u001b[0m\u001b[0;34m.\u001b[0m\u001b[0mloc\u001b[0m\u001b[0;34m[\u001b[0m\u001b[0mpd\u001b[0m\u001b[0;34m.\u001b[0m\u001b[0mto\u001b[0m\u001b[0;34m.\u001b[0m\u001b[0mdatetime\u001b[0m\u001b[0;34m(\u001b[0m\u001b[0;34m\"2019-02-01\"\u001b[0m\u001b[0;34m)\u001b[0m\u001b[0;34m:\u001b[0m \u001b[0mpd\u001b[0m\u001b[0;34m.\u001b[0m\u001b[0mto\u001b[0m\u001b[0;34m.\u001b[0m\u001b[0mdatetime\u001b[0m\u001b[0;34m(\u001b[0m\u001b[0;34m\"2019-02-28\"\u001b[0m\u001b[0;34m)\u001b[0m\u001b[0;34m]\u001b[0m\u001b[0;34m\u001b[0m\u001b[0;34m\u001b[0m\u001b[0m\n\u001b[0m\u001b[1;32m      5\u001b[0m \u001b[0mdata\u001b[0m\u001b[0;34m.\u001b[0m\u001b[0mplot\u001b[0m\u001b[0;34m.\u001b[0m\u001b[0mline\u001b[0m\u001b[0;34m(\u001b[0m\u001b[0;34m)\u001b[0m\u001b[0;34m\u001b[0m\u001b[0;34m\u001b[0m\u001b[0m\n\u001b[1;32m      6\u001b[0m \u001b[0mplt\u001b[0m\u001b[0;34m.\u001b[0m\u001b[0mshow\u001b[0m\u001b[0;34m(\u001b[0m\u001b[0;34m)\u001b[0m\u001b[0;34m\u001b[0m\u001b[0;34m\u001b[0m\u001b[0m\n",
            "\u001b[0;32m/usr/local/lib/python3.8/dist-packages/pandas/__init__.py\u001b[0m in \u001b[0;36m__getattr__\u001b[0;34m(name)\u001b[0m\n\u001b[1;32m    242\u001b[0m         \u001b[0;32mreturn\u001b[0m \u001b[0m_SparseArray\u001b[0m\u001b[0;34m\u001b[0m\u001b[0;34m\u001b[0m\u001b[0m\n\u001b[1;32m    243\u001b[0m \u001b[0;34m\u001b[0m\u001b[0m\n\u001b[0;32m--> 244\u001b[0;31m     \u001b[0;32mraise\u001b[0m \u001b[0mAttributeError\u001b[0m\u001b[0;34m(\u001b[0m\u001b[0;34mf\"module 'pandas' has no attribute '{name}'\"\u001b[0m\u001b[0;34m)\u001b[0m\u001b[0;34m\u001b[0m\u001b[0;34m\u001b[0m\u001b[0m\n\u001b[0m\u001b[1;32m    245\u001b[0m \u001b[0;34m\u001b[0m\u001b[0m\n\u001b[1;32m    246\u001b[0m \u001b[0;34m\u001b[0m\u001b[0m\n",
            "\u001b[0;31mAttributeError\u001b[0m: module 'pandas' has no attribute 'to'"
          ]
        }
      ]
    },
    {
      "cell_type": "markdown",
      "source": [
        "**Finished**"
      ],
      "metadata": {
        "id": "3US644L1a-SF"
      }
    },
    {
      "cell_type": "code",
      "source": [],
      "metadata": {
        "id": "dOPIYZLCbDkU"
      },
      "execution_count": null,
      "outputs": []
    }
  ]
}