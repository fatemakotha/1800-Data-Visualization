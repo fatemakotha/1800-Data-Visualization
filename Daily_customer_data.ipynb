{
  "nbformat": 4,
  "nbformat_minor": 0,
  "metadata": {
    "colab": {
      "provenance": [],
      "authorship_tag": "ABX9TyNyGxT9fVVTstZhXCkLatLR",
      "include_colab_link": true
    },
    "kernelspec": {
      "name": "python3",
      "display_name": "Python 3"
    },
    "language_info": {
      "name": "python"
    }
  },
  "cells": [
    {
      "cell_type": "markdown",
      "metadata": {
        "id": "view-in-github",
        "colab_type": "text"
      },
      "source": [
        "<a href=\"https://colab.research.google.com/github/fatemakotha/1800-Data-Visualization/blob/main/Daily_customer_data.ipynb\" target=\"_parent\"><img src=\"https://colab.research.google.com/assets/colab-badge.svg\" alt=\"Open In Colab\"/></a>"
      ]
    },
    {
      "cell_type": "code",
      "execution_count": 6,
      "metadata": {
        "id": "MA8R3x7NNoSv"
      },
      "outputs": [],
      "source": [
        "import pandas as pd\n",
        "import numpy as np\n",
        "import matplotlib.pyplot as plt"
      ]
    },
    {
      "cell_type": "code",
      "source": [
        "daily_cust_data = pd.read_csv(\"https://tinyurl.com/ChrisCoDV/001246895/OutletDailyCustomers.csv\")\n",
        "daily_cust_data.head(3)"
      ],
      "metadata": {
        "colab": {
          "base_uri": "https://localhost:8080/",
          "height": 173
        },
        "id": "eszI8nisNv1F",
        "outputId": "f6e39418-f8eb-47e5-97d1-29bdd084f55d"
      },
      "execution_count": 7,
      "outputs": [
        {
          "output_type": "execute_result",
          "data": {
            "text/plain": [
              "         Date  YGE  AGN  GFA  BSQ  HNV  OZW  OTL   RAN  EHT  ...  YMQ  FZI  \\\n",
              "0  2021-01-01   65    0   53  920   60   85   72  2130   77  ...    0   81   \n",
              "1  2021-01-02   60    0   69  878   54   72   82  2868   82  ...    0   74   \n",
              "2  2021-01-03   69    0   52  736   64   91   75  2222   72  ...    0   76   \n",
              "\n",
              "   LTU  DHJ  EEC  IFI  CGV  CNW  IZX  NLT  \n",
              "0   66   81  999   75  881   66   86   52  \n",
              "1   78   99  952   82  940   68   84   71  \n",
              "2   67   77  896   84  634   70   98   51  \n",
              "\n",
              "[3 rows x 46 columns]"
            ],
            "text/html": [
              "\n",
              "  <div id=\"df-036b19ec-192c-4dc2-9986-0959063a489c\">\n",
              "    <div class=\"colab-df-container\">\n",
              "      <div>\n",
              "<style scoped>\n",
              "    .dataframe tbody tr th:only-of-type {\n",
              "        vertical-align: middle;\n",
              "    }\n",
              "\n",
              "    .dataframe tbody tr th {\n",
              "        vertical-align: top;\n",
              "    }\n",
              "\n",
              "    .dataframe thead th {\n",
              "        text-align: right;\n",
              "    }\n",
              "</style>\n",
              "<table border=\"1\" class=\"dataframe\">\n",
              "  <thead>\n",
              "    <tr style=\"text-align: right;\">\n",
              "      <th></th>\n",
              "      <th>Date</th>\n",
              "      <th>YGE</th>\n",
              "      <th>AGN</th>\n",
              "      <th>GFA</th>\n",
              "      <th>BSQ</th>\n",
              "      <th>HNV</th>\n",
              "      <th>OZW</th>\n",
              "      <th>OTL</th>\n",
              "      <th>RAN</th>\n",
              "      <th>EHT</th>\n",
              "      <th>...</th>\n",
              "      <th>YMQ</th>\n",
              "      <th>FZI</th>\n",
              "      <th>LTU</th>\n",
              "      <th>DHJ</th>\n",
              "      <th>EEC</th>\n",
              "      <th>IFI</th>\n",
              "      <th>CGV</th>\n",
              "      <th>CNW</th>\n",
              "      <th>IZX</th>\n",
              "      <th>NLT</th>\n",
              "    </tr>\n",
              "  </thead>\n",
              "  <tbody>\n",
              "    <tr>\n",
              "      <th>0</th>\n",
              "      <td>2021-01-01</td>\n",
              "      <td>65</td>\n",
              "      <td>0</td>\n",
              "      <td>53</td>\n",
              "      <td>920</td>\n",
              "      <td>60</td>\n",
              "      <td>85</td>\n",
              "      <td>72</td>\n",
              "      <td>2130</td>\n",
              "      <td>77</td>\n",
              "      <td>...</td>\n",
              "      <td>0</td>\n",
              "      <td>81</td>\n",
              "      <td>66</td>\n",
              "      <td>81</td>\n",
              "      <td>999</td>\n",
              "      <td>75</td>\n",
              "      <td>881</td>\n",
              "      <td>66</td>\n",
              "      <td>86</td>\n",
              "      <td>52</td>\n",
              "    </tr>\n",
              "    <tr>\n",
              "      <th>1</th>\n",
              "      <td>2021-01-02</td>\n",
              "      <td>60</td>\n",
              "      <td>0</td>\n",
              "      <td>69</td>\n",
              "      <td>878</td>\n",
              "      <td>54</td>\n",
              "      <td>72</td>\n",
              "      <td>82</td>\n",
              "      <td>2868</td>\n",
              "      <td>82</td>\n",
              "      <td>...</td>\n",
              "      <td>0</td>\n",
              "      <td>74</td>\n",
              "      <td>78</td>\n",
              "      <td>99</td>\n",
              "      <td>952</td>\n",
              "      <td>82</td>\n",
              "      <td>940</td>\n",
              "      <td>68</td>\n",
              "      <td>84</td>\n",
              "      <td>71</td>\n",
              "    </tr>\n",
              "    <tr>\n",
              "      <th>2</th>\n",
              "      <td>2021-01-03</td>\n",
              "      <td>69</td>\n",
              "      <td>0</td>\n",
              "      <td>52</td>\n",
              "      <td>736</td>\n",
              "      <td>64</td>\n",
              "      <td>91</td>\n",
              "      <td>75</td>\n",
              "      <td>2222</td>\n",
              "      <td>72</td>\n",
              "      <td>...</td>\n",
              "      <td>0</td>\n",
              "      <td>76</td>\n",
              "      <td>67</td>\n",
              "      <td>77</td>\n",
              "      <td>896</td>\n",
              "      <td>84</td>\n",
              "      <td>634</td>\n",
              "      <td>70</td>\n",
              "      <td>98</td>\n",
              "      <td>51</td>\n",
              "    </tr>\n",
              "  </tbody>\n",
              "</table>\n",
              "<p>3 rows × 46 columns</p>\n",
              "</div>\n",
              "      <button class=\"colab-df-convert\" onclick=\"convertToInteractive('df-036b19ec-192c-4dc2-9986-0959063a489c')\"\n",
              "              title=\"Convert this dataframe to an interactive table.\"\n",
              "              style=\"display:none;\">\n",
              "        \n",
              "  <svg xmlns=\"http://www.w3.org/2000/svg\" height=\"24px\"viewBox=\"0 0 24 24\"\n",
              "       width=\"24px\">\n",
              "    <path d=\"M0 0h24v24H0V0z\" fill=\"none\"/>\n",
              "    <path d=\"M18.56 5.44l.94 2.06.94-2.06 2.06-.94-2.06-.94-.94-2.06-.94 2.06-2.06.94zm-11 1L8.5 8.5l.94-2.06 2.06-.94-2.06-.94L8.5 2.5l-.94 2.06-2.06.94zm10 10l.94 2.06.94-2.06 2.06-.94-2.06-.94-.94-2.06-.94 2.06-2.06.94z\"/><path d=\"M17.41 7.96l-1.37-1.37c-.4-.4-.92-.59-1.43-.59-.52 0-1.04.2-1.43.59L10.3 9.45l-7.72 7.72c-.78.78-.78 2.05 0 2.83L4 21.41c.39.39.9.59 1.41.59.51 0 1.02-.2 1.41-.59l7.78-7.78 2.81-2.81c.8-.78.8-2.07 0-2.86zM5.41 20L4 18.59l7.72-7.72 1.47 1.35L5.41 20z\"/>\n",
              "  </svg>\n",
              "      </button>\n",
              "      \n",
              "  <style>\n",
              "    .colab-df-container {\n",
              "      display:flex;\n",
              "      flex-wrap:wrap;\n",
              "      gap: 12px;\n",
              "    }\n",
              "\n",
              "    .colab-df-convert {\n",
              "      background-color: #E8F0FE;\n",
              "      border: none;\n",
              "      border-radius: 50%;\n",
              "      cursor: pointer;\n",
              "      display: none;\n",
              "      fill: #1967D2;\n",
              "      height: 32px;\n",
              "      padding: 0 0 0 0;\n",
              "      width: 32px;\n",
              "    }\n",
              "\n",
              "    .colab-df-convert:hover {\n",
              "      background-color: #E2EBFA;\n",
              "      box-shadow: 0px 1px 2px rgba(60, 64, 67, 0.3), 0px 1px 3px 1px rgba(60, 64, 67, 0.15);\n",
              "      fill: #174EA6;\n",
              "    }\n",
              "\n",
              "    [theme=dark] .colab-df-convert {\n",
              "      background-color: #3B4455;\n",
              "      fill: #D2E3FC;\n",
              "    }\n",
              "\n",
              "    [theme=dark] .colab-df-convert:hover {\n",
              "      background-color: #434B5C;\n",
              "      box-shadow: 0px 1px 3px 1px rgba(0, 0, 0, 0.15);\n",
              "      filter: drop-shadow(0px 1px 2px rgba(0, 0, 0, 0.3));\n",
              "      fill: #FFFFFF;\n",
              "    }\n",
              "  </style>\n",
              "\n",
              "      <script>\n",
              "        const buttonEl =\n",
              "          document.querySelector('#df-036b19ec-192c-4dc2-9986-0959063a489c button.colab-df-convert');\n",
              "        buttonEl.style.display =\n",
              "          google.colab.kernel.accessAllowed ? 'block' : 'none';\n",
              "\n",
              "        async function convertToInteractive(key) {\n",
              "          const element = document.querySelector('#df-036b19ec-192c-4dc2-9986-0959063a489c');\n",
              "          const dataTable =\n",
              "            await google.colab.kernel.invokeFunction('convertToInteractive',\n",
              "                                                     [key], {});\n",
              "          if (!dataTable) return;\n",
              "\n",
              "          const docLinkHtml = 'Like what you see? Visit the ' +\n",
              "            '<a target=\"_blank\" href=https://colab.research.google.com/notebooks/data_table.ipynb>data table notebook</a>'\n",
              "            + ' to learn more about interactive tables.';\n",
              "          element.innerHTML = '';\n",
              "          dataTable['output_type'] = 'display_data';\n",
              "          await google.colab.output.renderOutput(dataTable, element);\n",
              "          const docLink = document.createElement('div');\n",
              "          docLink.innerHTML = docLinkHtml;\n",
              "          element.appendChild(docLink);\n",
              "        }\n",
              "      </script>\n",
              "    </div>\n",
              "  </div>\n",
              "  "
            ]
          },
          "metadata": {},
          "execution_count": 7
        }
      ]
    },
    {
      "cell_type": "code",
      "source": [
        "# PYPLOT METHOD\n",
        "# daily_cust_data.plot(kind=\"scatter\", x=\"age\", y=\"chol\", c=\"target\", figsize=(10, 6))"
      ],
      "metadata": {
        "id": "HtSH2-CcNzwr"
      },
      "execution_count": 9,
      "outputs": []
    },
    {
      "cell_type": "code",
      "source": [
        "daily_cust_data.columns"
      ],
      "metadata": {
        "colab": {
          "base_uri": "https://localhost:8080/"
        },
        "id": "lsecC1h9Trtq",
        "outputId": "0b8bdb5a-0391-4cc8-c13a-418b937d0a44"
      },
      "execution_count": 10,
      "outputs": [
        {
          "output_type": "execute_result",
          "data": {
            "text/plain": [
              "Index(['Date', 'YGE', 'AGN', 'GFA', 'BSQ', 'HNV', 'OZW', 'OTL', 'RAN', 'EHT',\n",
              "       'ZMY', 'XSB', 'NFH', 'ZYT', 'DSA', 'MTE', 'RFY', 'HTF', 'DMN', 'END',\n",
              "       'DTO', 'EYS', 'LLK', 'CTH', 'AYD', 'DZZ', 'ZSJ', 'PLB', 'HZQ', 'FTW',\n",
              "       'BMF', 'CYK', 'QZF', 'MZO', 'GNL', 'PFQ', 'YMQ', 'FZI', 'LTU', 'DHJ',\n",
              "       'EEC', 'IFI', 'CGV', 'CNW', 'IZX', 'NLT'],\n",
              "      dtype='object')"
            ]
          },
          "metadata": {},
          "execution_count": 10
        }
      ]
    },
    {
      "cell_type": "code",
      "source": [
        "for column in daily_cust_data.columns:\n",
        "    plt.plot(daily_cust_data.index, daily_cust_data[column], \n",
        "             linewidth=3)"
      ],
      "metadata": {
        "colab": {
          "base_uri": "https://localhost:8080/",
          "height": 201
        },
        "id": "nisXtc-cS8H7",
        "outputId": "aa9ab5d6-ce28-4036-9d68-25a38a269988"
      },
      "execution_count": 3,
      "outputs": [
        {
          "output_type": "error",
          "ename": "NameError",
          "evalue": "ignored",
          "traceback": [
            "\u001b[0;31m---------------------------------------------------------------------------\u001b[0m",
            "\u001b[0;31mNameError\u001b[0m                                 Traceback (most recent call last)",
            "\u001b[0;32m<ipython-input-3-44deb397c0e3>\u001b[0m in \u001b[0;36m<module>\u001b[0;34m\u001b[0m\n\u001b[0;32m----> 1\u001b[0;31m \u001b[0;32mfor\u001b[0m \u001b[0mcolumn\u001b[0m \u001b[0;32min\u001b[0m \u001b[0mdaily_cust_data\u001b[0m\u001b[0;34m.\u001b[0m\u001b[0mcolumns\u001b[0m\u001b[0;34m:\u001b[0m\u001b[0;34m\u001b[0m\u001b[0;34m\u001b[0m\u001b[0m\n\u001b[0m\u001b[1;32m      2\u001b[0m     plt.plot(daily_cust_data.index, daily_cust_data[column], \n\u001b[1;32m      3\u001b[0m              linewidth=3)\n",
            "\u001b[0;31mNameError\u001b[0m: name 'daily_cust_data' is not defined"
          ]
        }
      ]
    },
    {
      "cell_type": "code",
      "source": [],
      "metadata": {
        "id": "axGf665DTIeQ"
      },
      "execution_count": null,
      "outputs": []
    }
  ]
}